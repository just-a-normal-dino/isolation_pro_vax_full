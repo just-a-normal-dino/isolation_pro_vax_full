{
 "cells": [
  {
   "cell_type": "markdown",
   "metadata": {},
   "source": [
    "In this code we analyze how the isolation parameter correlates with the increase of anti-vaccination behavior"
   ]
  },
  {
   "cell_type": "markdown",
   "metadata": {},
   "source": [
    "# Import libraries"
   ]
  },
  {
   "cell_type": "code",
   "execution_count": 1,
   "metadata": {},
   "outputs": [],
   "source": [
    "# import packages\n",
    "import sys\n",
    "sys.path.insert(0, 'C:/Users/DeenoZord/Documents/All_Files_Laptop/Coding/Pyton_Files/Functions_and_modules')\n",
    "\n",
    "import numpy as np\n",
    "import pandas as pd\n",
    "import matplotlib.pyplot as plt\n",
    "import importlib\n",
    "\n",
    "from wgm2018_pack import *\n",
    "\n",
    "import winsound \n",
    "import scipy.stats as stt\n",
    "\n",
    "from sklearn.linear_model import LinearRegression\n",
    "from IPython.display import clear_output"
   ]
  },
  {
   "cell_type": "markdown",
   "metadata": {},
   "source": [
    "# List of attitudes"
   ]
  },
  {
   "cell_type": "code",
   "execution_count": 2,
   "metadata": {},
   "outputs": [],
   "source": [
    "vacc_neut_att = ['Vaccines important to children:Neither agree nor disagree', 'Vaccines Safe:Neither agree nor disagree', 'Vaccines Effective:Neither agree nor disagree']\n",
    "\n",
    "vacc_pos_att = ['Vaccines important to children:Strongly agree',\n",
    " 'Vaccines important to children:Somewhat agree','Vaccines Safe:Strongly agree',\n",
    " 'Vaccines Safe:Somewhat agree','Vaccines Effective:Strongly agree',\n",
    " 'Vaccines Effective:Somewhat agree']\n",
    "vacc_Wpos_att = ['Vaccines important to children:Somewhat agree',\n",
    "                 'Vaccines Safe:Somewhat agree', 'Vaccines Effective:Somewhat agree']\n",
    "vacc_Spos_att = ['Vaccines important to children:Strongly agree',\n",
    "                 'Vaccines Safe:Strongly agree', 'Vaccines Effective:Strongly agree']\n",
    "\n",
    "    \n",
    "vacc_neg_att = ['Vaccines important to children:Somewhat disagree',\n",
    " 'Vaccines important to children:Strongly disagree','Vaccines Safe:Somewhat disagree',\n",
    " 'Vaccines Safe:Strongly disagree','Vaccines Effective:Somewhat disagree',\n",
    " 'Vaccines Effective:Strongly disagree']\n",
    "vacc_Wneg_att = ['Vaccines important to children:Somewhat disagree',\n",
    "                 'Vaccines Safe:Somewhat disagree','Vaccines Effective:Somewhat disagree']\n",
    "vacc_Sneg_att = ['Vaccines important to children:Strongly disagree',\n",
    "                 'Vaccines Safe:Strongly disagree','Vaccines Effective:Strongly disagree']"
   ]
  },
  {
   "cell_type": "code",
   "execution_count": 3,
   "metadata": {},
   "outputs": [],
   "source": [
    "dk_att = [\n",
    "'Know Science:(DK)',\n",
    "'Understand meaning Sci:(DK)',\n",
    "'Study disease is science:(DK)',\n",
    "'Poetry is science:(DK)',\n",
    "'Learned Sci in Prim.School:(DK)',\n",
    "'Learned Sci in Sec.School:(DK)',\n",
    "'Learned Sci in College/Uni:(DK)',\n",
    "'Searched Sci past 30d:(DK)',\n",
    "'Searched Med past 30d:(DK)',\n",
    "'Searched Sci:(DK)',\n",
    "'Searched Med:(DK)',\n",
    "'Confidence NGO:(DK)',\n",
    "'Confidence Hospitals:(DK)',\n",
    "'Trust neighborhood:(DK)',\n",
    "'Trust government:(DK)',\n",
    "'Trust Scientists:(DK)',\n",
    "'Trust Journalists:(DK)',\n",
    "'Trust Doctors:(DK)',\n",
    "'Trust NGO workers:(DK)',\n",
    "'Trust traditional Healers:(DK)',\n",
    "'Trust science:(DK)',\n",
    "'Trust Scientists 4 info:(DK)',\n",
    "'Trust scientist intentions:(DK)',\n",
    "'Trust scientists honesty:(DK)',\n",
    "'Trust scientist in Med Comp intentions:(DK)',\n",
    "'Trust scientists in Med Comp honesty:(DK)',\n",
    "'Science benefits:(DK)',\n",
    "'Science benefits you:(DK)',\n",
    "'Science improve next gen:(DK)',\n",
    "'Science will increase jobs:(DK)',\n",
    "'Who trust most for Med Advice:(DK)',\n",
    "'Trust gov 4 Med Advice:(DK)',\n",
    "'Trust Doc 4 med advice:(DK)',\n",
    "'Ever heard of vaccines:(DK)',\n",
    "'Vaccines important to children:(DK)/(Refused)',\n",
    "'Vaccines Safe:(DK)/(Refused)',\n",
    "'Vaccines Effective:(DK)/(Refused)',\n",
    "'Have Children:(DK)',\n",
    "'Your Child Received Vax:(DK)',\n",
    "'Religion:(DK)/(Refused)',\n",
    "'Science disagreed w your religion:(DK)',\n",
    "'(disagreement)Believe science or religion:(DK)',\n",
    "]"
   ]
  },
  {
   "cell_type": "code",
   "execution_count": 4,
   "metadata": {},
   "outputs": [],
   "source": [
    "full_trust_att = [\n",
    "'Trust neighborhood:A lot',\n",
    "'Trust government:A lot',\n",
    "'Trust Scientists:A lot',\n",
    "'Trust Journalists:A lot',\n",
    "'Trust Doctors:A lot',\n",
    "'Trust NGO workers:A lot',\n",
    "'Trust science:A lot',\n",
    "'Trust Scientists 4 info:A lot',\n",
    "'Trust scientist intentions:A lot',\n",
    "'Trust scientists honesty:A lot',\n",
    "'Trust scientist in Med Comp intentions:A lot',\n",
    "'Trust scientists in Med Comp honesty:A lot',\n",
    "'Trust gov 4 Med Advice:A lot',\n",
    "'Trust Doc 4 med advice:A lot',\n",
    "'Confidence Hospitals:Yes',\n",
    "'Science benefits you:Yes',\n",
    "'Science improve next gen:Yes',\n",
    "]"
   ]
  },
  {
   "cell_type": "code",
   "execution_count": 5,
   "metadata": {},
   "outputs": [],
   "source": [
    "medium_trus_att = [\n",
    "'Trust neighborhood:Some',\n",
    "'Trust government:Some',\n",
    "'Trust Scientists:Some',\n",
    "'Trust Journalists:Some',\n",
    "'Trust Doctors:Some',\n",
    "'Trust NGO workers:Some',\n",
    "'Trust traditional Healers:Some',\n",
    "'Trust science:Some',\n",
    "'Trust Scientists 4 info:Some',\n",
    "'Trust scientist intentions:Some',\n",
    "'Trust scientists honesty:Some',\n",
    "'Trust scientist in Med Comp intentions:Some',\n",
    "'Trust scientists in Med Comp honesty:Some',\n",
    "'Science benefits:Some',\n",
    "'Trust gov 4 Med Advice:Some',\n",
    "'Trust Doc 4 med advice:Some'\n",
    "]\n"
   ]
  },
  {
   "cell_type": "code",
   "execution_count": 6,
   "metadata": {},
   "outputs": [],
   "source": [
    "medium_distrust_att = [\n",
    "'Trust neighborhood:Not much',\n",
    "'Trust government:Not much',\n",
    "'Trust Scientists:Not much',\n",
    "'Trust Journalists:Not much',\n",
    "'Trust Doctors:Not much',\n",
    "'Trust NGO workers:Not much',\n",
    "'Trust traditional Healers:Not much',\n",
    "'Trust science:Not much',\n",
    "'Trust Scientists 4 info:Not much',\n",
    "'Trust scientist intentions:Not much',\n",
    "'Trust scientists honesty:Not much',\n",
    "'Trust scientist in Med Comp intentions:Not much',\n",
    "'Trust scientists in Med Comp honesty:Not much',\n",
    "'Trust gov 4 Med Advice:Not much',\n",
    "'Trust Doc 4 med advice:Not much',\n",
    "]\n"
   ]
  },
  {
   "cell_type": "code",
   "execution_count": 7,
   "metadata": {},
   "outputs": [],
   "source": [
    "full_distrust_att = [\n",
    "'Trust neighborhood:Not at all',\n",
    "'Trust government:Not at all',\n",
    "'Trust Scientists:Not at all',\n",
    "'Trust Journalists:Not at all',\n",
    "'Trust Doctors:Not at all',\n",
    "'Trust NGO workers:Not at all',\n",
    "'Trust traditional Healers:Not at all',\n",
    "'Trust science:Not at all',\n",
    "'Trust Scientists 4 info:Not at all',\n",
    "'Trust scientist intentions:Not at all',\n",
    "'Trust scientists honesty:Not at all',\n",
    "'Trust scientist in Med Comp intentions:Not at all',\n",
    "'Trust scientists in Med Comp honesty:Not at all',\n",
    "'Trust gov 4 Med Advice:Not at all',\n",
    "'Trust Doc 4 med advice:Not at all',\n",
    "]\n"
   ]
  },
  {
   "cell_type": "code",
   "execution_count": 8,
   "metadata": {},
   "outputs": [],
   "source": [
    "religion_att = ['Religion:Named a specific religion']"
   ]
  },
  {
   "cell_type": "code",
   "execution_count": 9,
   "metadata": {},
   "outputs": [],
   "source": [
    "refused_att = [\n",
    "'Know Science:(Refused)',\n",
    "'Understand meaning Sci:(Refused)',\n",
    "'Study disease is science:(Refused)',\n",
    "'Poetry is science:(Refused)',\n",
    "'Learned Sci in Prim.School:(Refused)',\n",
    "'Learned Sci in Sec.School:(Refused)',\n",
    "'Learned Sci in College/Uni:(Refused)',\n",
    "'Searched Sci past 30d:(Refused)',\n",
    "'Searched Med past 30d:(Refused)',\n",
    "'Searched Sci:(Refused)',\n",
    "'Searched Med:(Refused)',\n",
    "'Confidence NGO:(Refused)',\n",
    "'Confidence Hospitals:(Refused)',\n",
    "'Trust neighborhood:(Refused)',\n",
    "'Trust government:(Refused)',\n",
    "'Trust Scientists:(Refused)',\n",
    "'Trust Journalists:(Refused)',\n",
    "'Trust Doctors:(Refused)',\n",
    "'Trust NGO workers:(Refused)',\n",
    "'Trust traditional Healers:(Refused)',\n",
    "'Trust science:(Refused)',\n",
    "'Trust Scientists 4 info:(Refused)',\n",
    "'Trust scientist intentions:(Refused)',\n",
    "'Trust scientists honesty:(Refused)',\n",
    "'Trust scientist in Med Comp intentions:(Refused)',\n",
    "'Trust scientists in Med Comp honesty:(Refused)',\n",
    "'Science benefits:(Refused)',\n",
    "'Science benefits you:(Refused)',\n",
    "'Science improve next gen:(Refused)',\n",
    "'Science will increase jobs:(Refused)',\n",
    "'Who trust most for Med Advice:(Refused)',\n",
    "'Trust gov 4 Med Advice:(Refused)',\n",
    "'Trust Doc 4 med advice:(Refused)',\n",
    "'Ever heard of vaccines:(Refused)',\n",
    "'Vaccines important to children:(DK)/(Refused)',\n",
    "'Vaccines Safe:(DK)/(Refused)',\n",
    "'Vaccines Effective:(DK)/(Refused)',\n",
    "'Have Children:(Refused)',\n",
    "'Your Child Received Vax:(Refused)',\n",
    "'Religion:(DK)/(Refused)',\n",
    "'Science disagreed w your religion:(Refused)',\n",
    "'(disagreement)Believe science or religion:(Refused)',\n",
    "]"
   ]
  },
  {
   "cell_type": "code",
   "execution_count": 10,
   "metadata": {},
   "outputs": [],
   "source": [
    "list_aggr_vacc = [\"vacc_neut_att\", \"vacc_Wpos_att\", \"vacc_Spos_att\", \"vacc_Wneg_att\", \"vacc_Sneg_att\"]\n",
    "list_aggr_trust = [\"full_trust_att\", \"medium_trus_att\", \"medium_distrust_att\", \"full_distrust_att\"]\n",
    "list_aggr_ref = [\"refused_att\", \"dk_att\"]\n",
    "list_aggr_relig = [\"religion_att\"]"
   ]
  },
  {
   "cell_type": "code",
   "execution_count": 11,
   "metadata": {},
   "outputs": [],
   "source": [
    "list_aggr_vacc2 = ['vacc_neut_att',\n",
    " 'vacc_Wpos_att',\n",
    " 'vacc_Wneg_att',\n",
    " 'vacc_Sneg_att']\n",
    "\n",
    "list_aggr_vacc_Spos = ['vacc_Spos_att']"
   ]
  },
  {
   "cell_type": "markdown",
   "metadata": {},
   "source": [
    "# Functions"
   ]
  },
  {
   "cell_type": "markdown",
   "metadata": {},
   "source": [
    "Define the functions to be used later"
   ]
  },
  {
   "cell_type": "code",
   "execution_count": 12,
   "metadata": {},
   "outputs": [],
   "source": [
    "# Generates a bootstrapped correlation from data\n",
    "def bootstrap_corr(x,y,N,f):\n",
    "    l = len(x)\n",
    "    c_vec = []\n",
    "    \n",
    "    for i in range(0,N):\n",
    "        r = np.floor(np.random.rand(N)*l).astype(int)\n",
    "        xi = x[r]\n",
    "        yi = y[r]\n",
    "#         xi = x\n",
    "#         yi = y\n",
    "        \n",
    "        ct = f(xi,yi)\n",
    "        \n",
    "        c_vec.append(ct)\n",
    "        \n",
    "    c_vec = np.array(c_vec)\n",
    "    \n",
    "    return [c_vec, np.mean(c_vec), np.std(c_vec)]\n",
    "    "
   ]
  },
  {
   "cell_type": "code",
   "execution_count": 13,
   "metadata": {},
   "outputs": [],
   "source": [
    "def pearsonr_(x,y):\n",
    "    [r,p] = stt.pearsonr(x,y)\n",
    "    return r"
   ]
  },
  {
   "cell_type": "code",
   "execution_count": 14,
   "metadata": {},
   "outputs": [],
   "source": [
    "def spearmanr_positiv(*args):\n",
    "    # this version returns only r, which will be used for making the network\n",
    "    [r,p] = stt.spearmanr(*args)\n",
    "    if r < 0:\n",
    "        r = 0\n",
    "    \n",
    "    return r"
   ]
  },
  {
   "cell_type": "code",
   "execution_count": 15,
   "metadata": {},
   "outputs": [],
   "source": [
    "def make_graph_(list_of_nodes, metrics, exclude_same_question=True, print_=False,  df=wgm_bool):\n",
    "    G = nx.Graph()\n",
    "    for i, node_i in enumerate(list_of_nodes):\n",
    "        for j, node_j in enumerate(list_of_nodes):\n",
    "            \n",
    "            if print_:\n",
    "                n_tot = len(list_of_nodes)**2\n",
    "                current = (i*len(list_of_nodes))+(j)\n",
    "                print(current,\"/\",n_tot, \" = \", np.round(current/n_tot,decimals=2))\n",
    "            \n",
    "            if j <= i:\n",
    "                continue\n",
    "\n",
    "            if exclude_same_question:\n",
    "                if node_i.split(sep=':')[0] == node_j.split(sep=':')[0]:\n",
    "                    # if they belong to the same question\n",
    "                    continue\n",
    "\n",
    "            [c1,c2] = get_col_values([node_i,node_j], df=df)\n",
    "            weight = metrics(c1,c2)\n",
    "            G.add_weighted_edges_from([(node_i,node_j,weight)])\n",
    "    return G"
   ]
  },
  {
   "cell_type": "code",
   "execution_count": 16,
   "metadata": {},
   "outputs": [],
   "source": [
    "def p_corr_(x,y,z,corr_fun):\n",
    "    # correlatuon between x and y after removing z\n",
    "    \n",
    "    # Need to reshape z as column for being accepted in LinearRegression\n",
    "    zz = []\n",
    "    for el in z:\n",
    "        zz.append([el])\n",
    "    z = np.array(zz)\n",
    "\n",
    "    # Get the residuals on x\n",
    "    reg = LinearRegression().fit(z, x)\n",
    "    x_predicted = reg.predict(z)\n",
    "    reg = LinearRegression().fit(z, x)\n",
    "    x_residuals = x-x_predicted\n",
    "\n",
    "    # Get the residuals on y\n",
    "    reg = LinearRegression().fit(z, y)\n",
    "    y_predicted = reg.predict(z)\n",
    "    reg = LinearRegression().fit(z, y)\n",
    "    y_residuals = y-y_predicted\n",
    "\n",
    "    p_corr = corr_fun(x_residuals, y_residuals)\n",
    "    return p_corr\n"
   ]
  },
  {
   "cell_type": "code",
   "execution_count": 17,
   "metadata": {},
   "outputs": [],
   "source": [
    "def p_corr_multiple(x,y,z_s,corr_fun):\n",
    "    # z_s is a list of elements to remove\n",
    "    # correlatuon between x and y after removing z\n",
    "    \n",
    "    # Need to reshape z as column for being accepted in LinearRegression\n",
    "    \n",
    "    for z in z_s:\n",
    "        zz = []\n",
    "        for el in z:\n",
    "            zz.append([el])\n",
    "        z = np.array(zz)\n",
    "\n",
    "        # Get the residuals on x\n",
    "        reg = LinearRegression().fit(z, x)\n",
    "        x_predicted = reg.predict(z)\n",
    "        reg = LinearRegression().fit(z, x)\n",
    "        x_residuals = x-x_predicted\n",
    "\n",
    "        # Get the residuals on y\n",
    "        reg = LinearRegression().fit(z, y)\n",
    "        y_predicted = reg.predict(z)\n",
    "        reg = LinearRegression().fit(z, y)\n",
    "        y_residuals = y-y_predicted\n",
    "        \n",
    "        x = x_residuals\n",
    "        y = y_residuals\n",
    "\n",
    "    p_corr = corr_fun(x_residuals, y_residuals)\n",
    "    return p_corr\n"
   ]
  },
  {
   "cell_type": "code",
   "execution_count": 18,
   "metadata": {},
   "outputs": [],
   "source": [
    "def check_avg_corr(list_of_aggregated_nodes, list_of_aggregated_nodes_n, metrics, exclude_same_question=True, print_=False,  df=wgm_bool):\n",
    "    # The first aggregated node is the one that you'll use to calculate the correlation\n",
    "    \n",
    "#     print(list_of_aggregated_nodes_n)\n",
    "    a_node_i_name = list_of_aggregated_nodes_n[0]\n",
    "    a_node_i = list_of_aggregated_nodes[0]\n",
    "    \n",
    "    count = 0\n",
    "    for j, a_node_j_name in enumerate(list_of_aggregated_nodes_n):\n",
    "        if j == 0:\n",
    "            pass\n",
    "        else:            \n",
    "            a_node_j = list_of_aggregated_nodes[j]\n",
    "\n",
    "    #         count = 0\n",
    "            avg_weight = 0\n",
    "    #             print(a_node_i)\n",
    "            for ii, node_i in enumerate(a_node_i):\n",
    "                for jj, node_j in enumerate(a_node_j):\n",
    "\n",
    "                    if exclude_same_question:\n",
    "                        if node_i.split(sep=':')[0] == node_j.split(sep=':')[0]:\n",
    "                            # if they belong to the same question\n",
    "                            continue\n",
    "\n",
    "                    [c1,c2] = get_col_values([node_i,node_j],df=df)\n",
    "                    weight = metrics(c1,c2)\n",
    "\n",
    "                    if not np.isnan(weight):\n",
    "                        avg_weight = (weight + avg_weight*count)/(count+1)\n",
    "                        count += 1\n",
    "\n",
    "    return avg_weight"
   ]
  },
  {
   "cell_type": "code",
   "execution_count": null,
   "metadata": {},
   "outputs": [],
   "source": []
  },
  {
   "cell_type": "markdown",
   "metadata": {},
   "source": [
    "# Import the datasets\n",
    "\n",
    "Notice that the Wellcome Global Monitor has already been imported"
   ]
  },
  {
   "cell_type": "markdown",
   "metadata": {},
   "source": [
    "### Dataset on vaccination coverage\n",
    "\n",
    "Source: \n",
    "https://apps.who.int/gho/data/node.main.A824?lang=en\n",
    "\n",
    "Also available at: https://www.kaggle.com/lsind18/who-immunization-coverage"
   ]
  },
  {
   "cell_type": "markdown",
   "metadata": {},
   "source": [
    "Note: when a future version is released, make sure to select the right column. Indeed, when also the 2020 data will be available, column 1 will not be anymore the 2019 data, but the 2020!"
   ]
  },
  {
   "cell_type": "code",
   "execution_count": 19,
   "metadata": {},
   "outputs": [
    {
     "data": {
      "text/html": [
       "<div>\n",
       "<style scoped>\n",
       "    .dataframe tbody tr th:only-of-type {\n",
       "        vertical-align: middle;\n",
       "    }\n",
       "\n",
       "    .dataframe tbody tr th {\n",
       "        vertical-align: top;\n",
       "    }\n",
       "\n",
       "    .dataframe thead th {\n",
       "        text-align: right;\n",
       "    }\n",
       "</style>\n",
       "<table border=\"1\" class=\"dataframe\">\n",
       "  <thead>\n",
       "    <tr style=\"text-align: right;\">\n",
       "      <th></th>\n",
       "      <th>Unnamed: 0</th>\n",
       "      <th>Measles-containing-vaccine second-dose (MCV2) immunization coverage by the nationally recommended age (%)</th>\n",
       "      <th>Measles-containing-vaccine second-dose (MCV2) immunization coverage by the nationally recommended age (%).1</th>\n",
       "      <th>Measles-containing-vaccine second-dose (MCV2) immunization coverage by the nationally recommended age (%).2</th>\n",
       "      <th>Measles-containing-vaccine second-dose (MCV2) immunization coverage by the nationally recommended age (%).3</th>\n",
       "      <th>Measles-containing-vaccine second-dose (MCV2) immunization coverage by the nationally recommended age (%).4</th>\n",
       "      <th>Measles-containing-vaccine second-dose (MCV2) immunization coverage by the nationally recommended age (%).5</th>\n",
       "      <th>Measles-containing-vaccine second-dose (MCV2) immunization coverage by the nationally recommended age (%).6</th>\n",
       "      <th>Measles-containing-vaccine second-dose (MCV2) immunization coverage by the nationally recommended age (%).7</th>\n",
       "      <th>Measles-containing-vaccine second-dose (MCV2) immunization coverage by the nationally recommended age (%).8</th>\n",
       "      <th>...</th>\n",
       "      <th>Measles-containing-vaccine second-dose (MCV2) immunization coverage by the nationally recommended age (%).10</th>\n",
       "      <th>Measles-containing-vaccine second-dose (MCV2) immunization coverage by the nationally recommended age (%).11</th>\n",
       "      <th>Measles-containing-vaccine second-dose (MCV2) immunization coverage by the nationally recommended age (%).12</th>\n",
       "      <th>Measles-containing-vaccine second-dose (MCV2) immunization coverage by the nationally recommended age (%).13</th>\n",
       "      <th>Measles-containing-vaccine second-dose (MCV2) immunization coverage by the nationally recommended age (%).14</th>\n",
       "      <th>Measles-containing-vaccine second-dose (MCV2) immunization coverage by the nationally recommended age (%).15</th>\n",
       "      <th>Measles-containing-vaccine second-dose (MCV2) immunization coverage by the nationally recommended age (%).16</th>\n",
       "      <th>Measles-containing-vaccine second-dose (MCV2) immunization coverage by the nationally recommended age (%).17</th>\n",
       "      <th>Measles-containing-vaccine second-dose (MCV2) immunization coverage by the nationally recommended age (%).18</th>\n",
       "      <th>Measles-containing-vaccine second-dose (MCV2) immunization coverage by the nationally recommended age (%).19</th>\n",
       "    </tr>\n",
       "  </thead>\n",
       "  <tbody>\n",
       "    <tr>\n",
       "      <th>0</th>\n",
       "      <td>Country</td>\n",
       "      <td>2019</td>\n",
       "      <td>2018.0</td>\n",
       "      <td>2017.0</td>\n",
       "      <td>2016.0</td>\n",
       "      <td>2015.0</td>\n",
       "      <td>2014.0</td>\n",
       "      <td>2013.0</td>\n",
       "      <td>2012.0</td>\n",
       "      <td>2011.0</td>\n",
       "      <td>...</td>\n",
       "      <td>2009.0</td>\n",
       "      <td>2008.0</td>\n",
       "      <td>2007.0</td>\n",
       "      <td>2006.0</td>\n",
       "      <td>2005.0</td>\n",
       "      <td>2004.0</td>\n",
       "      <td>2003.0</td>\n",
       "      <td>2002.0</td>\n",
       "      <td>2001.0</td>\n",
       "      <td>2000.0</td>\n",
       "    </tr>\n",
       "    <tr>\n",
       "      <th>1</th>\n",
       "      <td>Afghanistan</td>\n",
       "      <td>39</td>\n",
       "      <td>39.0</td>\n",
       "      <td>39.0</td>\n",
       "      <td>39.0</td>\n",
       "      <td>39.0</td>\n",
       "      <td>39.0</td>\n",
       "      <td>35.0</td>\n",
       "      <td>33.0</td>\n",
       "      <td>31.0</td>\n",
       "      <td>...</td>\n",
       "      <td>24.0</td>\n",
       "      <td>23.0</td>\n",
       "      <td>4.0</td>\n",
       "      <td>18.0</td>\n",
       "      <td>9.0</td>\n",
       "      <td>2.0</td>\n",
       "      <td>NaN</td>\n",
       "      <td>NaN</td>\n",
       "      <td>NaN</td>\n",
       "      <td>NaN</td>\n",
       "    </tr>\n",
       "    <tr>\n",
       "      <th>2</th>\n",
       "      <td>Albania</td>\n",
       "      <td>96</td>\n",
       "      <td>96.0</td>\n",
       "      <td>98.0</td>\n",
       "      <td>98.0</td>\n",
       "      <td>98.0</td>\n",
       "      <td>98.0</td>\n",
       "      <td>99.0</td>\n",
       "      <td>99.0</td>\n",
       "      <td>99.0</td>\n",
       "      <td>...</td>\n",
       "      <td>98.0</td>\n",
       "      <td>98.0</td>\n",
       "      <td>95.0</td>\n",
       "      <td>94.0</td>\n",
       "      <td>97.0</td>\n",
       "      <td>96.0</td>\n",
       "      <td>93.0</td>\n",
       "      <td>93.0</td>\n",
       "      <td>90.0</td>\n",
       "      <td>NaN</td>\n",
       "    </tr>\n",
       "    <tr>\n",
       "      <th>3</th>\n",
       "      <td>Algeria</td>\n",
       "      <td>77</td>\n",
       "      <td>77.0</td>\n",
       "      <td>92.0</td>\n",
       "      <td>96.0</td>\n",
       "      <td>99.0</td>\n",
       "      <td>99.0</td>\n",
       "      <td>93.0</td>\n",
       "      <td>95.0</td>\n",
       "      <td>96.0</td>\n",
       "      <td>...</td>\n",
       "      <td>98.0</td>\n",
       "      <td>96.0</td>\n",
       "      <td>95.0</td>\n",
       "      <td>98.0</td>\n",
       "      <td>94.0</td>\n",
       "      <td>94.0</td>\n",
       "      <td>96.0</td>\n",
       "      <td>93.0</td>\n",
       "      <td>73.0</td>\n",
       "      <td>78.0</td>\n",
       "    </tr>\n",
       "    <tr>\n",
       "      <th>4</th>\n",
       "      <td>Andorra</td>\n",
       "      <td>95</td>\n",
       "      <td>95.0</td>\n",
       "      <td>94.0</td>\n",
       "      <td>90.0</td>\n",
       "      <td>88.0</td>\n",
       "      <td>90.0</td>\n",
       "      <td>91.0</td>\n",
       "      <td>89.0</td>\n",
       "      <td>82.0</td>\n",
       "      <td>...</td>\n",
       "      <td>82.0</td>\n",
       "      <td>86.0</td>\n",
       "      <td>80.0</td>\n",
       "      <td>NaN</td>\n",
       "      <td>NaN</td>\n",
       "      <td>NaN</td>\n",
       "      <td>NaN</td>\n",
       "      <td>NaN</td>\n",
       "      <td>NaN</td>\n",
       "      <td>NaN</td>\n",
       "    </tr>\n",
       "  </tbody>\n",
       "</table>\n",
       "<p>5 rows × 21 columns</p>\n",
       "</div>"
      ],
      "text/plain": [
       "    Unnamed: 0  \\\n",
       "0      Country   \n",
       "1  Afghanistan   \n",
       "2      Albania   \n",
       "3      Algeria   \n",
       "4      Andorra   \n",
       "\n",
       "   Measles-containing-vaccine second-dose (MCV2) immunization coverage by the nationally recommended age (%)  \\\n",
       "0                                               2019                                                           \n",
       "1                                                 39                                                           \n",
       "2                                                 96                                                           \n",
       "3                                                 77                                                           \n",
       "4                                                 95                                                           \n",
       "\n",
       "   Measles-containing-vaccine second-dose (MCV2) immunization coverage by the nationally recommended age (%).1  \\\n",
       "0                                             2018.0                                                             \n",
       "1                                               39.0                                                             \n",
       "2                                               96.0                                                             \n",
       "3                                               77.0                                                             \n",
       "4                                               95.0                                                             \n",
       "\n",
       "   Measles-containing-vaccine second-dose (MCV2) immunization coverage by the nationally recommended age (%).2  \\\n",
       "0                                             2017.0                                                             \n",
       "1                                               39.0                                                             \n",
       "2                                               98.0                                                             \n",
       "3                                               92.0                                                             \n",
       "4                                               94.0                                                             \n",
       "\n",
       "   Measles-containing-vaccine second-dose (MCV2) immunization coverage by the nationally recommended age (%).3  \\\n",
       "0                                             2016.0                                                             \n",
       "1                                               39.0                                                             \n",
       "2                                               98.0                                                             \n",
       "3                                               96.0                                                             \n",
       "4                                               90.0                                                             \n",
       "\n",
       "   Measles-containing-vaccine second-dose (MCV2) immunization coverage by the nationally recommended age (%).4  \\\n",
       "0                                             2015.0                                                             \n",
       "1                                               39.0                                                             \n",
       "2                                               98.0                                                             \n",
       "3                                               99.0                                                             \n",
       "4                                               88.0                                                             \n",
       "\n",
       "   Measles-containing-vaccine second-dose (MCV2) immunization coverage by the nationally recommended age (%).5  \\\n",
       "0                                             2014.0                                                             \n",
       "1                                               39.0                                                             \n",
       "2                                               98.0                                                             \n",
       "3                                               99.0                                                             \n",
       "4                                               90.0                                                             \n",
       "\n",
       "   Measles-containing-vaccine second-dose (MCV2) immunization coverage by the nationally recommended age (%).6  \\\n",
       "0                                             2013.0                                                             \n",
       "1                                               35.0                                                             \n",
       "2                                               99.0                                                             \n",
       "3                                               93.0                                                             \n",
       "4                                               91.0                                                             \n",
       "\n",
       "   Measles-containing-vaccine second-dose (MCV2) immunization coverage by the nationally recommended age (%).7  \\\n",
       "0                                             2012.0                                                             \n",
       "1                                               33.0                                                             \n",
       "2                                               99.0                                                             \n",
       "3                                               95.0                                                             \n",
       "4                                               89.0                                                             \n",
       "\n",
       "   Measles-containing-vaccine second-dose (MCV2) immunization coverage by the nationally recommended age (%).8  \\\n",
       "0                                             2011.0                                                             \n",
       "1                                               31.0                                                             \n",
       "2                                               99.0                                                             \n",
       "3                                               96.0                                                             \n",
       "4                                               82.0                                                             \n",
       "\n",
       "   ...  \\\n",
       "0  ...   \n",
       "1  ...   \n",
       "2  ...   \n",
       "3  ...   \n",
       "4  ...   \n",
       "\n",
       "   Measles-containing-vaccine second-dose (MCV2) immunization coverage by the nationally recommended age (%).10  \\\n",
       "0                                             2009.0                                                              \n",
       "1                                               24.0                                                              \n",
       "2                                               98.0                                                              \n",
       "3                                               98.0                                                              \n",
       "4                                               82.0                                                              \n",
       "\n",
       "   Measles-containing-vaccine second-dose (MCV2) immunization coverage by the nationally recommended age (%).11  \\\n",
       "0                                             2008.0                                                              \n",
       "1                                               23.0                                                              \n",
       "2                                               98.0                                                              \n",
       "3                                               96.0                                                              \n",
       "4                                               86.0                                                              \n",
       "\n",
       "   Measles-containing-vaccine second-dose (MCV2) immunization coverage by the nationally recommended age (%).12  \\\n",
       "0                                             2007.0                                                              \n",
       "1                                                4.0                                                              \n",
       "2                                               95.0                                                              \n",
       "3                                               95.0                                                              \n",
       "4                                               80.0                                                              \n",
       "\n",
       "   Measles-containing-vaccine second-dose (MCV2) immunization coverage by the nationally recommended age (%).13  \\\n",
       "0                                             2006.0                                                              \n",
       "1                                               18.0                                                              \n",
       "2                                               94.0                                                              \n",
       "3                                               98.0                                                              \n",
       "4                                                NaN                                                              \n",
       "\n",
       "   Measles-containing-vaccine second-dose (MCV2) immunization coverage by the nationally recommended age (%).14  \\\n",
       "0                                             2005.0                                                              \n",
       "1                                                9.0                                                              \n",
       "2                                               97.0                                                              \n",
       "3                                               94.0                                                              \n",
       "4                                                NaN                                                              \n",
       "\n",
       "   Measles-containing-vaccine second-dose (MCV2) immunization coverage by the nationally recommended age (%).15  \\\n",
       "0                                             2004.0                                                              \n",
       "1                                                2.0                                                              \n",
       "2                                               96.0                                                              \n",
       "3                                               94.0                                                              \n",
       "4                                                NaN                                                              \n",
       "\n",
       "   Measles-containing-vaccine second-dose (MCV2) immunization coverage by the nationally recommended age (%).16  \\\n",
       "0                                             2003.0                                                              \n",
       "1                                                NaN                                                              \n",
       "2                                               93.0                                                              \n",
       "3                                               96.0                                                              \n",
       "4                                                NaN                                                              \n",
       "\n",
       "   Measles-containing-vaccine second-dose (MCV2) immunization coverage by the nationally recommended age (%).17  \\\n",
       "0                                             2002.0                                                              \n",
       "1                                                NaN                                                              \n",
       "2                                               93.0                                                              \n",
       "3                                               93.0                                                              \n",
       "4                                                NaN                                                              \n",
       "\n",
       "   Measles-containing-vaccine second-dose (MCV2) immunization coverage by the nationally recommended age (%).18  \\\n",
       "0                                             2001.0                                                              \n",
       "1                                                NaN                                                              \n",
       "2                                               90.0                                                              \n",
       "3                                               73.0                                                              \n",
       "4                                                NaN                                                              \n",
       "\n",
       "   Measles-containing-vaccine second-dose (MCV2) immunization coverage by the nationally recommended age (%).19  \n",
       "0                                             2000.0                                                             \n",
       "1                                                NaN                                                             \n",
       "2                                                NaN                                                             \n",
       "3                                               78.0                                                             \n",
       "4                                                NaN                                                             \n",
       "\n",
       "[5 rows x 21 columns]"
      ]
     },
     "execution_count": 19,
     "metadata": {},
     "output_type": "execute_result"
    }
   ],
   "source": [
    "df_vacc_coverage = pd.read_csv(\"MCV2_2019.csv\")\n",
    "df_vacc_coverage.head()"
   ]
  },
  {
   "cell_type": "markdown",
   "metadata": {},
   "source": [
    "# Dataset on attitudes towards vaccination\n",
    "\n",
    "Source: https://www.thelancet.com/journals/lancet/article/PIIS0140-6736(20)31558-0/"
   ]
  },
  {
   "cell_type": "code",
   "execution_count": 20,
   "metadata": {},
   "outputs": [
    {
     "data": {
      "text/html": [
       "<div>\n",
       "<style scoped>\n",
       "    .dataframe tbody tr th:only-of-type {\n",
       "        vertical-align: middle;\n",
       "    }\n",
       "\n",
       "    .dataframe tbody tr th {\n",
       "        vertical-align: top;\n",
       "    }\n",
       "\n",
       "    .dataframe thead th {\n",
       "        text-align: right;\n",
       "    }\n",
       "</style>\n",
       "<table border=\"1\" class=\"dataframe\">\n",
       "  <thead>\n",
       "    <tr style=\"text-align: right;\">\n",
       "      <th></th>\n",
       "      <th>country or territory</th>\n",
       "      <th>who_region</th>\n",
       "      <th>count</th>\n",
       "      <th>sagree</th>\n",
       "      <th>sdisagree</th>\n",
       "      <th>question</th>\n",
       "      <th>time</th>\n",
       "      <th>perc sagree</th>\n",
       "      <th>perc sdisagr</th>\n",
       "    </tr>\n",
       "  </thead>\n",
       "  <tbody>\n",
       "    <tr>\n",
       "      <th>0</th>\n",
       "      <td>Afghanistan</td>\n",
       "      <td>EMR</td>\n",
       "      <td>2080</td>\n",
       "      <td>1403</td>\n",
       "      <td>16</td>\n",
       "      <td>effective</td>\n",
       "      <td>2015.833333</td>\n",
       "      <td>67.451923</td>\n",
       "      <td>0.769231</td>\n",
       "    </tr>\n",
       "    <tr>\n",
       "      <th>1</th>\n",
       "      <td>Afghanistan</td>\n",
       "      <td>EMR</td>\n",
       "      <td>990</td>\n",
       "      <td>775</td>\n",
       "      <td>8</td>\n",
       "      <td>effective</td>\n",
       "      <td>2018.538889</td>\n",
       "      <td>78.282828</td>\n",
       "      <td>0.808081</td>\n",
       "    </tr>\n",
       "    <tr>\n",
       "      <th>2</th>\n",
       "      <td>Afghanistan</td>\n",
       "      <td>EMR</td>\n",
       "      <td>1724</td>\n",
       "      <td>1038</td>\n",
       "      <td>34</td>\n",
       "      <td>effective</td>\n",
       "      <td>2019.915068</td>\n",
       "      <td>60.208817</td>\n",
       "      <td>1.972158</td>\n",
       "    </tr>\n",
       "    <tr>\n",
       "      <th>3</th>\n",
       "      <td>Afghanistan</td>\n",
       "      <td>EMR</td>\n",
       "      <td>2080</td>\n",
       "      <td>1585</td>\n",
       "      <td>7</td>\n",
       "      <td>important</td>\n",
       "      <td>2015.833333</td>\n",
       "      <td>76.201923</td>\n",
       "      <td>0.336538</td>\n",
       "    </tr>\n",
       "    <tr>\n",
       "      <th>4</th>\n",
       "      <td>Afghanistan</td>\n",
       "      <td>EMR</td>\n",
       "      <td>990</td>\n",
       "      <td>838</td>\n",
       "      <td>5</td>\n",
       "      <td>important</td>\n",
       "      <td>2018.538889</td>\n",
       "      <td>84.646465</td>\n",
       "      <td>0.505051</td>\n",
       "    </tr>\n",
       "  </tbody>\n",
       "</table>\n",
       "</div>"
      ],
      "text/plain": [
       "  country or territory who_region  count  sagree  sdisagree   question  \\\n",
       "0          Afghanistan        EMR   2080    1403         16  effective   \n",
       "1          Afghanistan        EMR    990     775          8  effective   \n",
       "2          Afghanistan        EMR   1724    1038         34  effective   \n",
       "3          Afghanistan        EMR   2080    1585          7  important   \n",
       "4          Afghanistan        EMR    990     838          5  important   \n",
       "\n",
       "          time  perc sagree  perc sdisagr  \n",
       "0  2015.833333    67.451923      0.769231  \n",
       "1  2018.538889    78.282828      0.808081  \n",
       "2  2019.915068    60.208817      1.972158  \n",
       "3  2015.833333    76.201923      0.336538  \n",
       "4  2018.538889    84.646465      0.505051  "
      ]
     },
     "execution_count": 20,
     "metadata": {},
     "output_type": "execute_result"
    }
   ],
   "source": [
    "df_trust = pd.read_excel(\"vaccine_trust.xlsx\",sheet_name=\"raw_data\")\n",
    "df_trust.head()"
   ]
  },
  {
   "cell_type": "code",
   "execution_count": null,
   "metadata": {},
   "outputs": [],
   "source": []
  },
  {
   "cell_type": "markdown",
   "metadata": {},
   "source": [
    "# Test the correlations"
   ]
  },
  {
   "cell_type": "markdown",
   "metadata": {},
   "source": [
    "### Prediction in vaccination coverage\n",
    "i.e. if the increase in vaccination coverage correlates with the isolation parameter"
   ]
  },
  {
   "cell_type": "code",
   "execution_count": 21,
   "metadata": {
    "scrolled": false
   },
   "outputs": [],
   "source": [
    "year_col_base = 2 # this is for choosing the year [1 = 2019, 2 = 2018, etc... range 2019-1980]\n",
    "year_col_new = 1 \n",
    "# year_col_base will be 2018 and year_col_new will be 2019. This is for calculating the increment in vaccination coverage\n",
    "\n",
    "# Parameters for calculating the isolation parameter\n",
    "metrics = pearsonr_\n",
    "df = wgm_bool\n",
    "exclude_same_question = True # Do not calculate corr between answers of the same question\n",
    "\n",
    "# Extra parameters\n",
    "df_alt = df_vacc_coverage\n",
    "\n",
    "# Initialize variables\n",
    "aggr_wealth = dict()\n",
    "dic_coverage_inc = dict()\n",
    "\n",
    "list_of_aggregated_nodes_n = list_aggr_vacc_Spos+list_aggr_vacc2 # For calculating the isolation\n",
    "\n",
    "# Use the previous list to generate the variables\n",
    "list_of_aggregated_nodes = []\n",
    "for name in list_of_aggregated_nodes_n:\n",
    "    exec(\"t = \"+name)\n",
    "    list_of_aggregated_nodes.append(t)\n",
    "\n",
    "# inizialization of the lists\n",
    "\n",
    "coverage_increase_vec = []\n",
    "corr_score_vec = []\n",
    "country_wealth = []\n",
    "country_n_agree = []\n",
    "\n",
    "# For each country in the df\n",
    "country_list_df = [col for col in df.columns if \"Country\" in col] # select the country columns\n",
    "country_list_df = [col for col in country_list_df if np.sum(df[col]) > 0] # select the ones that have no 0 elements\n",
    "\n",
    "country_count = 0 # counter for checking how many countries we are analyzing\n",
    "tot_country = len(country_list_df)\n",
    "\n",
    "count_temp = 0\n",
    "for count_col in country_list_df: # for each country\n",
    "    country = count_col.split(sep=\":\")[1]\n",
    "\n",
    "    country_count += 1\n",
    "    if np.sum(df_alt[\"Unnamed: 0\"] == country): # if the country is also in the other dataset\n",
    "        count_temp += 1\n",
    "\n",
    "        df_count = df [ df[count_col] == 1]\n",
    "\n",
    "        # Get the vaccine rate for the different years\n",
    "        mask_vacc = df_alt[\"Unnamed: 0\"] == country # select the data from the specific country\n",
    "        serie_base = df_alt.iloc[:,year_col_base] # 2018 data\n",
    "        serie_new = df_alt.iloc[:,year_col_new] # 2019 data\n",
    "\n",
    "        # Calculate the increase in vaccination coverage\n",
    "        val_base = serie_base[mask_vacc].iloc[0]\n",
    "        val_new = serie_new[mask_vacc].iloc[0]\n",
    "        val = val_new-val_base\n",
    "        val = val/val_base\n",
    "        coverage_increase = val\n",
    "        \n",
    "        # Get the country wealth\n",
    "        a = wgm_numeric [wgm_bool[\"Country:\"+country]] \n",
    "        wealth = a[\"Income Level\"].unique()[0]\n",
    "        \n",
    "        # Get the isolation parameter\n",
    "        avg_corr = check_avg_corr(list_of_aggregated_nodes, list_of_aggregated_nodes_n, metrics, exclude_same_question=exclude_same_question, print_=False,  df=df_count)\n",
    "\n",
    "        # Store the data\n",
    "        if (not np.isnan(coverage_increase)) and (not np.isnan(avg_corr)): # if the data of the country were not corrupted\n",
    "            coverage_increase_vec.append(coverage_increase)\n",
    "            corr_score_vec.append(avg_corr)\n",
    "            country_wealth.append(wealth)\n",
    "\n",
    "            # Get the percentage of totally agree\n",
    "            a = wgm_bool [wgm_bool[\"Country:\"+country]] \n",
    "            n_agree = np.sum(a[\"Vaccines important to children:Strongly agree\"])/len(a[\"Vaccines important to children:Strongly agree\"])\n",
    "            country_n_agree.append(n_agree)\n",
    "            \n",
    "            dic_coverage_inc[country] = coverage_increase\n",
    "            \n",
    "#             n_agree = np.sum(wgm_bool[\"Vaccines Effective:Strongly agree\"])\n",
    "#             n_agree = np.sum(wgm_bool[\"Vaccines Safe:Strongly agree\"])\n",
    "            clear_output()\n",
    "\n",
    "\n",
    "coverage_increase_vec = np.array(coverage_increase_vec)\n",
    "corr_score_vec = np.array(corr_score_vec)\n",
    "country_n_agree = np.array(country_n_agree)\n",
    "\n",
    "# make a df for the partial corr\n",
    "df_pcorr = pd.DataFrame()\n",
    "df_pcorr[\"vaccine cov\"] = coverage_increase_vec\n",
    "df_pcorr[\"corr scor\"] = corr_score_vec\n",
    "df_pcorr[\"wealth\"] = country_wealth\n",
    "df_pcorr[\"n_sagree\"] = country_n_agree"
   ]
  },
  {
   "cell_type": "code",
   "execution_count": 22,
   "metadata": {},
   "outputs": [
    {
     "name": "stdout",
     "output_type": "stream",
     "text": [
      "CORRELATION RESULTS:\n",
      "corr coverage increase & isolation =  SpearmanrResult(correlation=-0.3096431228578482, pvalue=0.0010513472094203522)\n",
      "partial corr (removing wealth) =  SpearmanrResult(correlation=-0.29082189056701163, pvalue=0.002155965916985571)\n",
      "partial corr (n_agree) =  SpearmanrResult(correlation=-0.31119132236142766, pvalue=0.0009889328639034539)\n",
      "partial corr removing both =  SpearmanrResult(correlation=-0.2619463531969236, pvalue=0.0059325139108974845)\n"
     ]
    }
   ],
   "source": [
    "print(\"CORRELATION RESULTS:\")\n",
    "print(\"corr coverage increase & isolation = \", stt.spearmanr(coverage_increase_vec,-corr_score_vec))\n",
    "corr_fun = stt.spearmanr\n",
    "print(\"partial corr (removing wealth) = \", p_corr_(coverage_increase_vec,-corr_score_vec,country_wealth,corr_fun))\n",
    "print(\"partial corr (n_agree) = \", p_corr_(coverage_increase_vec,-corr_score_vec,country_n_agree,corr_fun))\n",
    "print(\"partial corr removing both = \", p_corr_multiple(coverage_increase_vec,\n",
    "                                                  -corr_score_vec,\n",
    "                                                   [country_n_agree,country_wealth] ,corr_fun))"
   ]
  },
  {
   "cell_type": "markdown",
   "metadata": {},
   "source": [
    "Only the correlation between the two:"
   ]
  },
  {
   "cell_type": "code",
   "execution_count": 23,
   "metadata": {},
   "outputs": [
    {
     "name": "stdout",
     "output_type": "stream",
     "text": [
      "Correlation betwee coverage increase & isolation\n",
      "r =  -0.3096431228578482\n",
      "p =  0.0010513472094203522\n"
     ]
    }
   ],
   "source": [
    "print(\"Correlation betwee coverage increase & isolation\")\n",
    "[r,p] = stt.spearmanr(coverage_increase_vec,-corr_score_vec)\n",
    "print(\"r = \", r)\n",
    "print(\"p = \", p)"
   ]
  },
  {
   "cell_type": "markdown",
   "metadata": {},
   "source": [
    "Partial correlation after removing both wealth and trust:"
   ]
  },
  {
   "cell_type": "code",
   "execution_count": 24,
   "metadata": {},
   "outputs": [
    {
     "name": "stdout",
     "output_type": "stream",
     "text": [
      "PARTIAL Correlation between coverage increase & isolation\n",
      "r =  -0.2619463531969236\n",
      "p =  0.0059325139108974845\n"
     ]
    }
   ],
   "source": [
    "print(\"PARTIAL Correlation between coverage increase & isolation\")\n",
    "[r,p] = p_corr_multiple(coverage_increase_vec,-corr_score_vec,[country_n_agree,country_wealth] ,corr_fun)\n",
    "print(\"r = \", r)\n",
    "print(\"p = \", p)"
   ]
  },
  {
   "cell_type": "markdown",
   "metadata": {},
   "source": [
    "Thus <font color='violet'>the higher the isolation, the stronger the decrease in vaccination rate</font> "
   ]
  },
  {
   "cell_type": "code",
   "execution_count": null,
   "metadata": {},
   "outputs": [],
   "source": []
  },
  {
   "cell_type": "markdown",
   "metadata": {},
   "source": [
    "You can also calculate the correlation using bootstrapping"
   ]
  },
  {
   "cell_type": "code",
   "execution_count": 25,
   "metadata": {},
   "outputs": [
    {
     "name": "stdout",
     "output_type": "stream",
     "text": [
      "Corr =  -0.32949208258180107  +-  0.06902317597248075\n"
     ]
    }
   ],
   "source": [
    "[c,err]=bootstrap_corr(coverage_increase_vec,-corr_score_vec,100, pearsonr_)[1:]\n",
    "print(\"Corr = \", c, \" +- \", err)"
   ]
  },
  {
   "cell_type": "code",
   "execution_count": null,
   "metadata": {},
   "outputs": [],
   "source": []
  },
  {
   "cell_type": "markdown",
   "metadata": {},
   "source": [
    "### Test prediction in Trust\n",
    "i.e. if the isolation parameter correlates with increase in distrust"
   ]
  },
  {
   "cell_type": "markdown",
   "metadata": {},
   "source": [
    "Calculate the average correlations in each country"
   ]
  },
  {
   "cell_type": "code",
   "execution_count": 26,
   "metadata": {},
   "outputs": [],
   "source": [
    "df = wgm_bool\n",
    "\n",
    "exclude_same_question = True # True or false\n",
    "metrics = pearsonr_\n",
    "list_of_aggregated_nodes_n = list_aggr_vacc_Spos+list_aggr_vacc2\n",
    "\n",
    "# Turn the names into attitudes\n",
    "list_of_aggregated_nodes = []\n",
    "for name in list_of_aggregated_nodes_n:\n",
    "    exec(\"t = \"+name)\n",
    "    list_of_aggregated_nodes.append(t)\n",
    "\n",
    "no_vax_score_vec = []\n",
    "corr_score_vec = []\n",
    "n_notSpos = []\n",
    "n_Spos = []\n",
    "\n",
    "# For each country in the df\n",
    "country_list_df = [col for col in df.columns if \"Country:\" in col] # select the country columns\n",
    "country_list_df = [col for col in country_list_df if np.sum(df[col]) > 0] # select the ones that have no 0 elements\n",
    "\n",
    "dic_distance = {}\n",
    "\n",
    "for count_col in country_list_df:\n",
    "\n",
    "    country_name = count_col.split(sep=':')[1]\n",
    "    \n",
    "    df_count = df [ df[count_col] == 1]\n",
    "\n",
    "    # Get the isolation measur\n",
    "    avg_corr = check_avg_corr(list_of_aggregated_nodes, list_of_aggregated_nodes_n, metrics, exclude_same_question=exclude_same_question, print_=False,  df=df_count)\n",
    "\n",
    "    dic_distance[country_name] = avg_corr\n",
    "    clear_output()"
   ]
  },
  {
   "cell_type": "markdown",
   "metadata": {},
   "source": [
    "Calculate the increase in the level of distrust for each country"
   ]
  },
  {
   "cell_type": "code",
   "execution_count": 27,
   "metadata": {
    "scrolled": true
   },
   "outputs": [],
   "source": [
    "dic_increase = {}\n",
    "dic_trust_18 = {}\n",
    "\n",
    "c_18 = []\n",
    "c_19 = []\n",
    "diff_vec = []\n",
    "\n",
    "for country in df_trust[\"country or territory\"].unique():\n",
    "    \n",
    "    c19_t = np.nan\n",
    "    c18_t = np.nan\n",
    "    \n",
    "    df_t = df_trust [df_trust[\"country or territory\"] == country]\n",
    "    df_t = df_t [ df_t[\"question\"] == \"effective\"]\n",
    "    \n",
    "    \n",
    "    # Find the trust value for 2018 and 2019\n",
    "    # notice that we may have multiple 2018 values for the same country, \n",
    "    # in this case, we take the earliest one\n",
    "    tt2018 = 3000\n",
    "    for li in range(len(df_t.iloc[:,0])):\n",
    "        line = df_t.iloc[li,:]\n",
    "        \n",
    "        tt2 = line[\"time\"]\n",
    "        \n",
    "        if tt2>2018 and tt2<2020: \n",
    "            \n",
    "            if tt2>2019:\n",
    "                c19_t = line[\"perc sdisagr\"]\n",
    "                \n",
    "            if tt2<2019 and tt2018>tt2:\n",
    "                tt2 = tt2\n",
    "                c18_t = line[\"perc sdisagr\"]\n",
    "                \n",
    "    \n",
    "    if not (np.isnan(c19_t) or np.isnan(c18_t)): # if none is corrupted\n",
    "        diff = c19_t-c18_t\n",
    "            \n",
    "        dic_increase[country] = diff\n",
    "        \n",
    "        c_18.append(c18_t)\n",
    "        c_19.append(c19_t)\n",
    "        diff_vec.append(diff)\n",
    "        dic_trust_18[country] = c18_t\n",
    "    "
   ]
  },
  {
   "cell_type": "markdown",
   "metadata": {},
   "source": [
    "Use the same names in the two dictionaries"
   ]
  },
  {
   "cell_type": "code",
   "execution_count": 28,
   "metadata": {},
   "outputs": [],
   "source": [
    "dic_increase['United States'] = dic_increase['USA']\n",
    "dic_increase['United Kingdom'] = dic_increase['UK']\n",
    "\n",
    "del dic_increase['UK']\n",
    "del dic_increase['USA']\n"
   ]
  },
  {
   "cell_type": "markdown",
   "metadata": {},
   "source": [
    "Select only the countries which are common to the two datasets"
   ]
  },
  {
   "cell_type": "code",
   "execution_count": 29,
   "metadata": {},
   "outputs": [],
   "source": [
    "x = []\n",
    "y = []\n",
    "\n",
    "for country in dic_increase:\n",
    "    if country in dic_distance:\n",
    "        x.append(dic_increase[country])\n",
    "        y.append(dic_distance[country])\n",
    "        \n",
    "x = -np.array(x)\n",
    "y = np.array(y)"
   ]
  },
  {
   "cell_type": "code",
   "execution_count": 30,
   "metadata": {},
   "outputs": [
    {
     "name": "stdout",
     "output_type": "stream",
     "text": [
      "r =  0.3175692633416603\n",
      "p =  0.04883571042187488\n"
     ]
    }
   ],
   "source": [
    "r,p = stt.pearsonr(x,y)\n",
    "print(\"r = \", r)\n",
    "print(\"p = \", p)"
   ]
  },
  {
   "cell_type": "markdown",
   "metadata": {},
   "source": [
    "Thus <font color='violet'> the higher the isolation parameter the stronger the distrust in a country</font> "
   ]
  },
  {
   "cell_type": "code",
   "execution_count": null,
   "metadata": {},
   "outputs": [],
   "source": []
  },
  {
   "cell_type": "markdown",
   "metadata": {},
   "source": [
    "If you want to repeat it for bootstrapped correlation..."
   ]
  },
  {
   "cell_type": "code",
   "execution_count": 31,
   "metadata": {},
   "outputs": [
    {
     "name": "stdout",
     "output_type": "stream",
     "text": [
      "Corr =  0.3003042766202958  +-  0.0892659271488426\n",
      "Notice that here the second value is NOT the p-value but the standard deviation\n"
     ]
    }
   ],
   "source": [
    "[c,err]=bootstrap_corr(x,y,100,pearsonr_)[1:]\n",
    "print(\"Corr = \", c, \" +- \", err)\n",
    "print(\"Notice that here the second value is NOT the p-value but the standard deviation\")"
   ]
  },
  {
   "cell_type": "code",
   "execution_count": null,
   "metadata": {},
   "outputs": [],
   "source": []
  },
  {
   "cell_type": "markdown",
   "metadata": {},
   "source": [
    "# Test predictions from confidence\n",
    "Before we showed that isolation can be used for measuring \"dynamic effects\" (i.e. what will happen in the future). Here we show that distrust has only a static and not dynamic effect"
   ]
  },
  {
   "cell_type": "markdown",
   "metadata": {},
   "source": [
    "Correlation between distrust and its future value"
   ]
  },
  {
   "cell_type": "code",
   "execution_count": 32,
   "metadata": {},
   "outputs": [
    {
     "name": "stdout",
     "output_type": "stream",
     "text": [
      "Correlation between distrust in 2018 and its increase in 2019\n",
      "r =  0.014380609709720549\n",
      "p =  0.9307594563031496\n"
     ]
    }
   ],
   "source": [
    "print(\"Correlation between distrust in 2018 and its increase in 2019\")\n",
    "r,p = stt.pearsonr(c_18,diff_vec)\n",
    "print(\"r = \", r)\n",
    "print(\"p = \", p)"
   ]
  },
  {
   "cell_type": "markdown",
   "metadata": {},
   "source": [
    "Correlation between distrust and future increase in vaccination coverage"
   ]
  },
  {
   "cell_type": "code",
   "execution_count": 33,
   "metadata": {},
   "outputs": [],
   "source": [
    "x = []\n",
    "y = []\n",
    "\n",
    "for country in dic_coverage_inc:\n",
    "    if country in dic_trust_18:\n",
    "        x.append(dic_coverage_inc[country])\n",
    "        y.append(dic_trust_18[country])\n",
    "        \n",
    "x = np.array(x)\n",
    "y = np.array(y)"
   ]
  },
  {
   "cell_type": "code",
   "execution_count": 34,
   "metadata": {},
   "outputs": [
    {
     "name": "stdout",
     "output_type": "stream",
     "text": [
      "Correlation between trust in 2018 and increase in vaccination coverage in 2019\n",
      "r =  -0.13943278609065618\n",
      "p =  0.4706786135876143\n"
     ]
    }
   ],
   "source": [
    "print(\"Correlation between trust in 2018 and increase in vaccination coverage in 2019\")\n",
    "r,p = stt.pearsonr(x,y)\n",
    "print(\"r = \", r)\n",
    "print(\"p = \", p)"
   ]
  },
  {
   "cell_type": "markdown",
   "metadata": {},
   "source": [
    "As we can see both of them ar non-significant <font color='violet'> showing how distrust provides a static information. </font> "
   ]
  }
 ],
 "metadata": {
  "kernelspec": {
   "display_name": "Python 3",
   "language": "python",
   "name": "python3"
  },
  "language_info": {
   "codemirror_mode": {
    "name": "ipython",
    "version": 3
   },
   "file_extension": ".py",
   "mimetype": "text/x-python",
   "name": "python",
   "nbconvert_exporter": "python",
   "pygments_lexer": "ipython3",
   "version": "3.8.5"
  }
 },
 "nbformat": 4,
 "nbformat_minor": 2
}

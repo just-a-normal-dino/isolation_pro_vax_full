{
 "cells": [
  {
   "cell_type": "markdown",
   "metadata": {},
   "source": [
    "# Additional variables and functions"
   ]
  },
  {
   "cell_type": "code",
   "execution_count": 38,
   "metadata": {},
   "outputs": [],
   "source": [
    "def make_att_from_quest(selected_questions):\n",
    "    # you can also use it to check all the attitudes which contains a word!\n",
    "    \n",
    "    if type(selected_questions) == type('abc'):\n",
    "        selected_questions = [selected_questions]\n",
    "    \n",
    "    selected_attitudes = list()\n",
    "    for att in list_of_attitudes:\n",
    "        for quest in selected_questions:\n",
    "            if quest in att:\n",
    "                selected_attitudes.append(att)\n",
    "                break\n",
    "                \n",
    "    return selected_attitudes\n",
    "\n",
    "# make_att_from_quest('Know Science')"
   ]
  },
  {
   "cell_type": "code",
   "execution_count": 39,
   "metadata": {},
   "outputs": [
    {
     "data": {
      "text/plain": [
       "['Know Science:A lot',\n",
       " 'Know Science:Some',\n",
       " 'Know Science:Not much',\n",
       " 'Know Science:Nothing at all',\n",
       " 'Know Science:(DK)',\n",
       " 'Know Science:(Refused)']"
      ]
     },
     "execution_count": 39,
     "metadata": {},
     "output_type": "execute_result"
    }
   ],
   "source": [
    "# make_att_from_quest('Know Science')"
   ]
  },
  {
   "cell_type": "code",
   "execution_count": 42,
   "metadata": {},
   "outputs": [],
   "source": [
    "list_science_related_questions = ['Know Science', 'Understand meaning Sci', 'Study disease is science', 'Poetry is science', 'Learned Sci in Prim.School', 'Learned Sci in Sec.School', 'Learned Sci in College/Uni', 'Searched Sci past 30d', 'Searched Med past 30d', 'Searched Sci', 'Searched Med', 'Confidence NGO', 'Confidence Hospitals', 'Trust neighborhood', 'Trust government', 'Trust Scientists', 'Trust Journalists', 'Trust Doctors', 'Trust NGO workers', 'Trust traditional Healers', 'Trust science', 'Trust Scientists 4 info', 'Trust scientist intentions', 'Trust scientists honesty', 'Trust scientist in Med Comp intentions', 'Trust scientists in Med Comp honesty', 'Science benefits', 'Science benefits you', 'Science improve next gen', 'Science will increase jobs', 'Who trust most for Med Advice', 'Trust gov 4 Med Advice', 'Trust Doc 4 med advice', 'Ever heard of vaccines', 'Vaccines important to children', 'Vaccines Safe', 'Vaccines Effective', 'Have Children', 'Your Child Received Vax', 'Religion', 'Science disagreed w your religion', '(disagreement)Believe science or religion', 'How feel science']"
   ]
  },
  {
   "cell_type": "code",
   "execution_count": 43,
   "metadata": {},
   "outputs": [],
   "source": [
    "list_science_related_attitudes = make_att_from_quest(list_science_related_questions)\n",
    "\n",
    "# list_science_related_attitudes"
   ]
  },
  {
   "cell_type": "code",
   "execution_count": 41,
   "metadata": {},
   "outputs": [],
   "source": [
    "def get_col_values(keys, df=wgm_bool):\n",
    "    \n",
    "    cols = list()\n",
    "    \n",
    "    if type(keys) == type(\"abc\"):\n",
    "        keys = [keys]\n",
    "        \n",
    "    for key in keys:\n",
    "        col = df[key].values\n",
    "        cols.append(col)\n",
    "    \n",
    "    if len(cols) == 1:\n",
    "        cols = cols[0]\n",
    "        \n",
    "    return cols\n",
    "        "
   ]
  },
  {
   "cell_type": "code",
   "execution_count": null,
   "metadata": {},
   "outputs": [],
   "source": []
  },
  {
   "cell_type": "code",
   "execution_count": 42,
   "metadata": {},
   "outputs": [
    {
     "data": {
      "text/plain": [
       "[array([False, False, False, ..., False, False, False]),\n",
       " array([ True, False, False, ..., False, False, False])]"
      ]
     },
     "execution_count": 42,
     "metadata": {},
     "output_type": "execute_result"
    }
   ],
   "source": [
    "# get_col_values('Know Science:Nothing at all')\n",
    "get_col_values(['Know Science:Nothing at all','Trust Scientists 4 info:A lot'] )"
   ]
  },
  {
   "cell_type": "code",
   "execution_count": 46,
   "metadata": {},
   "outputs": [
    {
     "data": {
      "text/plain": [
       "144"
      ]
     },
     "execution_count": 46,
     "metadata": {},
     "output_type": "execute_result"
    }
   ],
   "source": [
    "countries_list = wgm_labels[\"Country\"].unique()\n",
    "len(countries_list)"
   ]
  },
  {
   "cell_type": "markdown",
   "metadata": {},
   "source": [
    "# Statistical and Network functions"
   ]
  },
  {
   "cell_type": "markdown",
   "metadata": {},
   "source": [
    "### Correlations"
   ]
  },
  {
   "cell_type": "code",
   "execution_count": 47,
   "metadata": {},
   "outputs": [],
   "source": [
    "def spearmanr_(*args):\n",
    "    # this version returns only r, which will be used for making the network\n",
    "    [r,p] = stt.spearmanr(*args)\n",
    "    return r"
   ]
  },
  {
   "cell_type": "code",
   "execution_count": 48,
   "metadata": {},
   "outputs": [],
   "source": [
    "def dino_semicorr(x,y):\n",
    "    x = np.array(x)\n",
    "    y = np.array(y)\n",
    "    \n",
    "    numer = np.sum(x==y).astype(\"float\")\n",
    "    return numer/len(x)\n",
    "    "
   ]
  },
  {
   "cell_type": "code",
   "execution_count": 49,
   "metadata": {},
   "outputs": [],
   "source": [
    "def dino_corr(x,y):\n",
    "    sem = dino_semicorr(x,y)\n",
    "    corr = (sem*2)-1\n",
    "    return corr"
   ]
  },
  {
   "cell_type": "code",
   "execution_count": 50,
   "metadata": {
    "scrolled": true
   },
   "outputs": [],
   "source": [
    "# dino_semicorr([1,1,2,2],[1,2,3,4])\n",
    "# dino_corr([1,1,2,2],[1,2,3,4])"
   ]
  },
  {
   "cell_type": "markdown",
   "metadata": {},
   "source": [
    "### Corr to distance"
   ]
  },
  {
   "cell_type": "code",
   "execution_count": 51,
   "metadata": {},
   "outputs": [],
   "source": [
    "def corr2distance(corr, method='linear', min_=0, max_=1):\n",
    "    if method=='linear':\n",
    "        d = ((-corr+1)/2)\n",
    "        \n",
    "    elif method == 'sqrt':\n",
    "        d = np.sqrt(0.5*(1-corr))\n",
    "        \n",
    "    elif method == 'square':\n",
    "        d = np.sqrt((1-corr**2))\n",
    "        \n",
    "    else:\n",
    "        raise Exception(\"Method not found\")\n",
    "        \n",
    "    d = (d*(max_-min_))+min_\n",
    "    \n",
    "    return d\n",
    "    "
   ]
  },
  {
   "cell_type": "code",
   "execution_count": 52,
   "metadata": {},
   "outputs": [],
   "source": [
    "# corr2distance(0)"
   ]
  },
  {
   "cell_type": "markdown",
   "metadata": {},
   "source": [
    "### Make graph"
   ]
  },
  {
   "cell_type": "code",
   "execution_count": 53,
   "metadata": {},
   "outputs": [],
   "source": [
    "def make_graph(list_of_nodes, metrics, exclude_same_question=True):\n",
    "    G = nx.Graph()\n",
    "    for i, node_i in enumerate(list_of_nodes):\n",
    "        for j, node_j in enumerate(list_of_nodes):\n",
    "            if j <= i:\n",
    "                continue\n",
    "\n",
    "            if exclude_same_question:\n",
    "                if node_i.split(sep=':')[0] == node_j.split(sep=':')[0]:\n",
    "                    # if they belong to the same question\n",
    "                    continue\n",
    "\n",
    "            [c1,c2] = get_col_values([node_i,node_j])\n",
    "            weight = metrics(c1,c2)\n",
    "            G.add_weighted_edges_from([(node_i,node_j,weight)])\n",
    "    return G"
   ]
  },
  {
   "cell_type": "markdown",
   "metadata": {},
   "source": [
    "Test it"
   ]
  },
  {
   "cell_type": "code",
   "execution_count": 54,
   "metadata": {},
   "outputs": [
    {
     "data": {
      "image/png": "[encoded data removed]",
      "text/plain": [
       "<Figure size 432x288 with 1 Axes>"
      ]
     },
     "metadata": {},
     "output_type": "display_data"
    }
   ],
   "source": [
    "# (node_i,node_j,weight\n",
    "metrics = spearmanr_\n",
    "list_of_nodes = ['Know Science:Nothing at all', 'Trust Scientists 4 info:A lot', 'Know Science:A lot']\n",
    "\n",
    "G = make_graph(list_of_nodes, metrics)\n",
    "nx.draw(G, with_labels=True)\n",
    "plt.show()"
   ]
  },
  {
   "cell_type": "markdown",
   "metadata": {},
   "source": [
    "# Sum up of the useful variables and functions"
   ]
  },
  {
   "cell_type": "markdown",
   "metadata": {},
   "source": [
    "###### Main dataframes:\n",
    "`wgm_numeric`\n",
    "\n",
    "`wgm_labels`\n",
    "\n",
    "`wgm_bool`\n",
    "\n",
    "###### lists:\n",
    "`list_of_catheg_questions`\n",
    "\n",
    "`list_science_related_questions` -&- `list_science_related_attitudes`\n",
    "\n",
    "`countries_list`\n",
    "\n",
    "###### functions:\n",
    "`[selected_attitudes] = make_att_from_quest(selected_questions)`\n",
    "\n",
    "`[G] = make_graph(list_of_nodes, metrics, exclude_same_question=True)`\n",
    "\n",
    "`d_semicorr(x,y)` and `d_corr(x,y)`\n",
    "\n",
    "`spearmanr_(x,y)`\n",
    "\n",
    "`corr2distance(corr, method='linear', min_=0, max_=1)`\n",
    "\n",
    "`[cols] = get_col_values(keys, df=wgm_bool)`"
   ]
  },
  {
   "cell_type": "code",
   "execution_count": null,
   "metadata": {},
   "outputs": [],
   "source": []
  },
  {
   "cell_type": "code",
   "execution_count": null,
   "metadata": {},
   "outputs": [],
   "source": []
  },
  {
   "cell_type": "markdown",
   "metadata": {},
   "source": [
    "---------"
   ]
  },
  {
   "cell_type": "code",
   "execution_count": null,
   "metadata": {},
   "outputs": [],
   "source": []
  },
  {
   "cell_type": "code",
   "execution_count": null,
   "metadata": {},
   "outputs": [],
   "source": []
  },
  {
   "cell_type": "code",
   "execution_count": null,
   "metadata": {},
   "outputs": [],
   "source": []
  },
  {
   "cell_type": "markdown",
   "metadata": {},
   "source": [
    "# Test it on vaccine attitudes"
   ]
  },
  {
   "cell_type": "markdown",
   "metadata": {},
   "source": [
    "Version with all attitudes"
   ]
  },
  {
   "cell_type": "code",
   "execution_count": 39,
   "metadata": {},
   "outputs": [],
   "source": [
    "# make_att_from_quest(\"Vaccines\")\n",
    "neutral_attitudes = ['Vaccines important to children:Neither agree nor disagree', 'Vaccines Safe:Neither agree nor disagree', 'Vaccines Effective:Neither agree nor disagree']\n",
    "positive_attitudes = ['Vaccines important to children:Strongly agree',\n",
    " 'Vaccines important to children:Somewhat agree','Vaccines Safe:Strongly agree',\n",
    " 'Vaccines Safe:Somewhat agree','Vaccines Effective:Strongly agree',\n",
    " 'Vaccines Effective:Somewhat agree']\n",
    "negative_attitudes = ['Vaccines important to children:Somewhat disagree',\n",
    " 'Vaccines important to children:Strongly disagree','Vaccines Safe:Somewhat disagree',\n",
    " 'Vaccines Safe:Strongly disagree','Vaccines Effective:Somewhat disagree',\n",
    " 'Vaccines Effective:Strongly disagree']"
   ]
  },
  {
   "cell_type": "code",
   "execution_count": 40,
   "metadata": {},
   "outputs": [],
   "source": [
    "def get_corr_attitudes(att_vec1,att_vec2,corr_fun,df_):\n",
    "    if type(att_vec1) == type('abc'):\n",
    "        att_vec1 = [att_vec1]\n",
    "    if type(att_vec2) == type('abc'):\n",
    "        att_vec2 = [att_vec1]\n",
    "        \n",
    "    corr_vec = list()\n",
    "    \n",
    "    for att1 in att_vec1:\n",
    "        for att2 in att_vec2:\n",
    "            if att1.split(sep=':') == att2.split(sep=':'):\n",
    "                #if they belong to the same question\n",
    "                continue\n",
    "                \n",
    "            [x,y] = get_col_values([att1,att2], df=df_)\n",
    "            corr = corr_fun(x,y)\n",
    "\n",
    "            corr_vec.append(corr)\n",
    "            \n",
    "    corr_vec = np.array(corr_vec)\n",
    "    \n",
    "    return corr_vec"
   ]
  },
  {
   "cell_type": "code",
   "execution_count": 41,
   "metadata": {},
   "outputs": [],
   "source": [
    "def analyze_country(country,neutral_attitudes,positive_attitudes,negative_attitudes):\n",
    "    country_df = wgm_bool [wgm_bool[\"Country:\"+country]]\n",
    "    \n",
    "#     print(country_df.head())\n",
    "    \n",
    "    neutr_pos_vec = get_corr_attitudes(neutral_attitudes,positive_attitudes,spearmanr_,country_df)\n",
    "    neutr_neg_vec = get_corr_attitudes(neutral_attitudes,negative_attitudes,spearmanr_,country_df)\n",
    "    \n",
    "    mean_pos = np.mean(neutr_pos_vec)\n",
    "    std_pos = np.std(neutr_pos_vec)\n",
    "    \n",
    "    mean_neg = np.mean(neutr_neg_vec)\n",
    "    std_neg = np.std(neutr_neg_vec)\n",
    "    \n",
    "    mean_diff = mean_neg - mean_pos\n",
    "    std_diff = np.sqrt(std_neg**2+std_pos**2)\n",
    "    \n",
    "    diff_min = mean_diff-std_diff\n",
    "    diff_max = mean_diff+std_diff\n",
    "    \n",
    "    side_check = -100\n",
    "    if diff_min > 0:\n",
    "        side_check = 1\n",
    "    elif diff_min <= 0 and diff_max >= 0:\n",
    "        side_check = 0\n",
    "    elif diff_max <= 0:\n",
    "        side_check = -1\n",
    "    else:\n",
    "        raise Exception(\"Unexpected inteval found\",[mean_pos,std_pos,mean_neg,std_neg,mean_diff,std_diff])\n",
    "        \n",
    "        \n",
    "    return [mean_pos,std_pos,mean_neg,std_neg,mean_diff,std_diff,side_check]\n",
    "    \n",
    "    "
   ]
  },
  {
   "cell_type": "code",
   "execution_count": 42,
   "metadata": {},
   "outputs": [
    {
     "data": {
      "text/plain": [
       "[-0.2254229300043052,\n",
       " 0.15166086999693032,\n",
       " 0.008435020563246996,\n",
       " 0.06350087487066153,\n",
       " 0.23385795056755218,\n",
       " 0.16441830980023242,\n",
       " 1]"
      ]
     },
     "execution_count": 42,
     "metadata": {},
     "output_type": "execute_result"
    }
   ],
   "source": [
    "# analyze_country(\"Italy\",neutral_attitudes,positive_attitudes,negative_attitudes)\n",
    "analyze_country(\"Spain\",neutral_attitudes,positive_attitudes,negative_attitudes)"
   ]
  },
  {
   "cell_type": "code",
   "execution_count": 43,
   "metadata": {},
   "outputs": [],
   "source": [
    "# countries_list"
   ]
  },
  {
   "cell_type": "code",
   "execution_count": 44,
   "metadata": {},
   "outputs": [
    {
     "name": "stderr",
     "output_type": "stream",
     "text": [
      "C:\\ProgramData\\Anaconda3\\lib\\site-packages\\numpy\\lib\\function_base.py:3183: RuntimeWarning: invalid value encountered in true_divide\n",
      "  c /= stddev[:, None]\n",
      "C:\\ProgramData\\Anaconda3\\lib\\site-packages\\numpy\\lib\\function_base.py:3184: RuntimeWarning: invalid value encountered in true_divide\n",
      "  c /= stddev[None, :]\n",
      "C:\\ProgramData\\Anaconda3\\lib\\site-packages\\scipy\\stats\\_distn_infrastructure.py:879: RuntimeWarning: invalid value encountered in greater\n",
      "  return (self.a < x) & (x < self.b)\n",
      "C:\\ProgramData\\Anaconda3\\lib\\site-packages\\scipy\\stats\\_distn_infrastructure.py:879: RuntimeWarning: invalid value encountered in less\n",
      "  return (self.a < x) & (x < self.b)\n",
      "C:\\ProgramData\\Anaconda3\\lib\\site-packages\\scipy\\stats\\_distn_infrastructure.py:1821: RuntimeWarning: invalid value encountered in less_equal\n",
      "  cond2 = cond0 & (x <= self.a)\n"
     ]
    },
    {
     "name": "stdout",
     "output_type": "stream",
     "text": [
      "Egypt  bad data\n",
      "Lebanon  bad data\n",
      "Palestinian Territories  bad data\n",
      "Cambodia  bad data\n",
      "Laos  bad data\n",
      "Ethiopia  bad data\n",
      "Dominican Republic  bad data\n",
      "Honduras  bad data\n",
      "Nicaragua  bad data\n",
      "Portugal  bad data\n",
      "Northern Cyprus  bad data\n"
     ]
    }
   ],
   "source": [
    "plus = list()\n",
    "zeros = list()\n",
    "minus = list()\n",
    "\n",
    "for country in countries_list:\n",
    "    \n",
    "    try:\n",
    "        country_vec = analyze_country(country,neutral_attitudes,positive_attitudes,negative_attitudes)\n",
    "\n",
    "        if country_vec[6] == 1:\n",
    "            plus.append(country)\n",
    "        elif country_vec[6] == 0:\n",
    "            zeros.append(country)\n",
    "        elif country_vec[6] == -1:\n",
    "            minus.append(country)\n",
    "        else:\n",
    "            raise Exception(\"Value not recognized\")\n",
    "    except:\n",
    "        print(country, \" bad data\")"
   ]
  },
  {
   "cell_type": "code",
   "execution_count": 45,
   "metadata": {},
   "outputs": [
    {
     "name": "stdout",
     "output_type": "stream",
     "text": [
      "26\n",
      "107\n",
      "0\n"
     ]
    }
   ],
   "source": [
    "print(len(plus))\n",
    "print(len(zeros))\n",
    "print(len(minus))\n"
   ]
  },
  {
   "cell_type": "markdown",
   "metadata": {},
   "source": [
    "### Add grouped attitudes"
   ]
  },
  {
   "cell_type": "code",
   "execution_count": 46,
   "metadata": {},
   "outputs": [],
   "source": [
    "att1 ='Vaccines important to children:Strongly agree'\n",
    "att2 = 'Vaccines important to children:Somewhat agree'\n",
    "wgm_bool[\"Vaccines important to children:Agree\"] = wgm_bool[att1] | wgm_bool[att2]\n",
    "\n",
    "att1 ='Vaccines Safe:Strongly agree'\n",
    "att2 = 'Vaccines Safe:Somewhat agree'\n",
    "wgm_bool[\"Vaccines Safe:Agree\"] = wgm_bool[att1] | wgm_bool[att2]\n",
    "\n",
    "att1 ='Vaccines Effective:Strongly agree'\n",
    "att2 = 'Vaccines Effective:Somewhat agree'\n",
    "wgm_bool[\"Vaccines Effective:Agree\"] = wgm_bool[att1] | wgm_bool[att2]\n",
    "\n",
    "\n",
    "\n",
    "att1 ='Vaccines important to children:Somewhat disagree'\n",
    "att2 = 'Vaccines important to children:Strongly disagree'\n",
    "wgm_bool[\"Vaccines important to children:Disagree\"] = wgm_bool[att1] | wgm_bool[att2]\n",
    "\n",
    "att1 ='Vaccines Safe:Somewhat disagree'\n",
    "att2 = 'Vaccines Safe:Strongly disagree'\n",
    "wgm_bool[\"Vaccines Safe:Disagree\"] = wgm_bool[att1] | wgm_bool[att2]\n",
    "\n",
    "att1 ='Vaccines Effective:Somewhat disagree'\n",
    "att2 = 'Vaccines Effective:Strongly disagree'\n",
    "wgm_bool[\"Vaccines Effective:Disagree\"] = wgm_bool[att1] | wgm_bool[att2]\n"
   ]
  },
  {
   "cell_type": "code",
   "execution_count": 47,
   "metadata": {},
   "outputs": [],
   "source": [
    "neutral_attitudes = ['Vaccines important to children:Neither agree nor disagree', 'Vaccines Safe:Neither agree nor disagree', 'Vaccines Effective:Neither agree nor disagree']\n",
    "positive_attitudes = ['Vaccines important to children:Agree','Vaccines Safe:Agree',\n",
    " 'Vaccines Effective:Agree']\n",
    "negative_attitudes = ['Vaccines important to children:Disagree',\n",
    " 'Vaccines Safe:Disagree',\n",
    " 'Vaccines Effective:Disagree']"
   ]
  },
  {
   "cell_type": "code",
   "execution_count": 48,
   "metadata": {},
   "outputs": [
    {
     "name": "stderr",
     "output_type": "stream",
     "text": [
      "C:\\ProgramData\\Anaconda3\\lib\\site-packages\\numpy\\lib\\function_base.py:3183: RuntimeWarning: invalid value encountered in true_divide\n",
      "  c /= stddev[:, None]\n",
      "C:\\ProgramData\\Anaconda3\\lib\\site-packages\\numpy\\lib\\function_base.py:3184: RuntimeWarning: invalid value encountered in true_divide\n",
      "  c /= stddev[None, :]\n",
      "C:\\ProgramData\\Anaconda3\\lib\\site-packages\\scipy\\stats\\_distn_infrastructure.py:879: RuntimeWarning: invalid value encountered in greater\n",
      "  return (self.a < x) & (x < self.b)\n",
      "C:\\ProgramData\\Anaconda3\\lib\\site-packages\\scipy\\stats\\_distn_infrastructure.py:879: RuntimeWarning: invalid value encountered in less\n",
      "  return (self.a < x) & (x < self.b)\n",
      "C:\\ProgramData\\Anaconda3\\lib\\site-packages\\scipy\\stats\\_distn_infrastructure.py:1821: RuntimeWarning: invalid value encountered in less_equal\n",
      "  cond2 = cond0 & (x <= self.a)\n"
     ]
    },
    {
     "name": "stdout",
     "output_type": "stream",
     "text": [
      "Cambodia  bad data\n",
      "Northern Cyprus  bad data\n"
     ]
    }
   ],
   "source": [
    "plus = list()\n",
    "zeros = list()\n",
    "minus = list()\n",
    "\n",
    "count_n_values = list()\n",
    "\n",
    "for country in countries_list:\n",
    "    \n",
    "    try:\n",
    "        country_vec = analyze_country(country,neutral_attitudes,positive_attitudes,negative_attitudes)\n",
    "        \n",
    "        count_n_values.append([country,country_vec[4],country_vec[5],country_vec[6]])\n",
    "        \n",
    "\n",
    "        if country_vec[6] == 1:\n",
    "            plus.append(country)\n",
    "        elif country_vec[6] == 0:\n",
    "            zeros.append(country)\n",
    "        elif country_vec[6] == -1:\n",
    "            minus.append(country)\n",
    "        else:\n",
    "            raise Exception(\"Value not recognized\")\n",
    "    except:\n",
    "        print(country, \" bad data\")"
   ]
  },
  {
   "cell_type": "code",
   "execution_count": 49,
   "metadata": {},
   "outputs": [
    {
     "name": "stdout",
     "output_type": "stream",
     "text": [
      "119\n",
      "23\n",
      "0\n"
     ]
    }
   ],
   "source": [
    "print(len(plus))\n",
    "print(len(zeros))\n",
    "print(len(minus))"
   ]
  },
  {
   "cell_type": "code",
   "execution_count": 50,
   "metadata": {},
   "outputs": [
    {
     "data": {
      "text/plain": [
       "[['Spain', 0.5686557898673885, 0.15449281056351793, 1],\n",
       " ['Hungary', 0.5230912399188806, 0.19040354660331704, 1],\n",
       " ['Greece', 0.49248214616787767, 0.20604937773526463, 1],\n",
       " ['Lebanon', 0.4865529813020843, 0.24500415359600203, 1],\n",
       " ['United Kingdom', 0.48196446981754154, 0.1679982279541557, 1],\n",
       " ['Czech Republic', 0.47687481339165183, 0.19283810906455606, 1],\n",
       " ['Australia', 0.4633257032516611, 0.17486212224922104, 1],\n",
       " ['Italy', 0.45786116638896257, 0.18384374563996633, 1],\n",
       " ['Singapore', 0.4569748358568091, 0.10432385928048458, 1],\n",
       " ['New Zealand', 0.4386542693903214, 0.17692982545628733, 1],\n",
       " ['United States', 0.4377477475135717, 0.18319971000200563, 1],\n",
       " ['Croatia', 0.43340533253001046, 0.16521737083540378, 1],\n",
       " ['Bosnia and Herzegovina', 0.43118406974191925, 0.17674103201249727, 1],\n",
       " ['Finland', 0.42560689048593253, 0.2582357256561678, 1],\n",
       " ['Canada', 0.4184913387396406, 0.18783482587629183, 1],\n",
       " ['Yemen', 0.41645341892824156, 0.12877795898499336, 1],\n",
       " ['Egypt', 0.400985314325467, 0.11559018600716672, 1],\n",
       " ['Slovakia', 0.39838788102051076, 0.11390878332358666, 1],\n",
       " ['Saudi Arabia', 0.3979113776813017, 0.21087501710753548, 1],\n",
       " ['Serbia', 0.3967755149797381, 0.1835085471146931, 1],\n",
       " ['Sweden', 0.3941093764629519, 0.22059581494593705, 1],\n",
       " ['Luxembourg', 0.39384322629695884, 0.15453843685484148, 1],\n",
       " ['Portugal', 0.388489696674851, 0.2633389049503221, 1],\n",
       " ['Uruguay', 0.38559654622119033, 0.20656156735954065, 1],\n",
       " ['Montenegro', 0.3797275879645971, 0.16304144565356668, 1],\n",
       " ['Japan', 0.37814489772223575, 0.2600819940901879, 1],\n",
       " ['Israel', 0.37572183702623924, 0.22267240627074536, 1],\n",
       " ['Macedonia', 0.36948855875533043, 0.1812724604255197, 1],\n",
       " ['Algeria', 0.35740723059004054, 0.1555243206584255, 1],\n",
       " ['Ireland', 0.3569843008258879, 0.16357253155536147, 1],\n",
       " ['Taiwan', 0.34923289387447126, 0.2344493137529286, 1],\n",
       " ['Germany', 0.3488145016910099, 0.2100646302915688, 1],\n",
       " ['Kazakhstan', 0.34871057163086916, 0.18262177250908132, 1],\n",
       " ['Moldova', 0.3434941165311819, 0.13652442865323955, 1],\n",
       " ['Tajikistan', 0.3419824885308921, 0.0971162259504088, 1],\n",
       " ['South Korea', 0.3417589918531949, 0.20932349122546706, 1],\n",
       " ['Latvia', 0.3400835344147516, 0.19284120673114996, 1],\n",
       " ['Denmark', 0.3365717758501924, 0.2569552684105006, 1],\n",
       " ['Estonia', 0.33384924295016627, 0.23446926020028375, 1],\n",
       " ['Mauritius', 0.3286125488293701, 0.24457250023799482, 1],\n",
       " ['Malta', 0.3226162175395945, 0.20156190141936078, 1],\n",
       " ['Chile', 0.32106696622019165, 0.18045413028890567, 1],\n",
       " ['Afghanistan', 0.31858059153767193, 0.1483317760172931, 1],\n",
       " ['Lithuania', 0.3167466081760136, 0.11782831455117561, 1],\n",
       " ['Poland', 0.3164599256758678, 0.12999206852988998, 1],\n",
       " ['Bangladesh', 0.31339582202429617, 0.16184766911431675, 1],\n",
       " ['Tunisia', 0.3116334648539466, 0.17788481184114174, 1],\n",
       " ['Bulgaria', 0.30855893125450506, 0.20800721204006928, 1],\n",
       " ['Belarus', 0.3077088538722632, 0.18495713976950884, 1],\n",
       " ['Switzerland', 0.30171261598309385, 0.15710684996290736, 1],\n",
       " ['Belgium', 0.2980578510847319, 0.22800677698120006, 1],\n",
       " ['Slovenia', 0.2963630456368004, 0.19156464020240957, 1],\n",
       " ['Azerbaijan', 0.2952507556209129, 0.14029972693530993, 1],\n",
       " ['Romania', 0.29462375269161184, 0.19845325733857913, 1],\n",
       " ['Argentina', 0.2925406556086555, 0.2174460563056238, 1],\n",
       " ['Iran', 0.28972185006228957, 0.24550323740990848, 1],\n",
       " ['France', 0.2880526190885313, 0.16106962995541738, 1],\n",
       " ['Turkmenistan', 0.2845875994284933, 0.10227239248935445, 1],\n",
       " ['Kosovo', 0.2826423353845763, 0.22684042575523092, 1],\n",
       " ['Panama', 0.2787089021688731, 0.13275264043582238, 1],\n",
       " ['Morocco', 0.2760981250421244, 0.12311875832746903, 1],\n",
       " ['China', 0.27570715355663056, 0.18192360045588427, 1],\n",
       " ['Costa Rica', 0.2723331730822094, 0.2073656897454496, 1],\n",
       " ['Palestinian Territories', 0.26816936898814836, 0.24618082137352587, 1],\n",
       " ['Brazil', 0.2665387894132042, 0.17238452215742894, 1],\n",
       " ['Eswatini', 0.26577713410574405, 0.18125914885244496, 1],\n",
       " ['Turkey', 0.25742540976142186, 0.177318983443411, 1],\n",
       " ['Jordan', 0.25345140828912954, 0.17733385383238817, 1],\n",
       " ['Ukraine', 0.24987892275239942, 0.277228368343725, 0],\n",
       " ['Zimbabwe', 0.24860242965786034, 0.17270659719276246, 1],\n",
       " ['Uzbekistan', 0.24138119524497603, 0.12700726983653504, 1],\n",
       " ['Georgia', 0.24107518984328977, 0.1885622719306041, 1],\n",
       " ['Austria', 0.23905673468005775, 0.2023950046360129, 1],\n",
       " ['Colombia', 0.23872857525629762, 0.1936953740628276, 1],\n",
       " ['Myanmar', 0.2385543616938585, 0.11597916428632528, 1],\n",
       " ['Ecuador', 0.23809569080075332, 0.1653421385109947, 1],\n",
       " ['El Salvador', 0.236670102037669, 0.16036000027588387, 1],\n",
       " ['Kyrgyzstan', 0.23394498123134777, 0.1311543382908938, 1],\n",
       " ['Paraguay', 0.23347161445076453, 0.20172513715466198, 1],\n",
       " ['Libya', 0.23254831878007762, 0.20533563577345548, 1],\n",
       " ['Bolivia', 0.22721726377334794, 0.18836396641462358, 1],\n",
       " ['Mexico', 0.22146701208714376, 0.13379738216895026, 1],\n",
       " ['Gabon', 0.21775423170167507, 0.16977220135726234, 1],\n",
       " ['Kenya', 0.21733509970887416, 0.14392451246982185, 1],\n",
       " ['Honduras', 0.21618087662165678, 0.172515057211258, 1],\n",
       " ['Kuwait', 0.21478245694563267, 0.14870489634422798, 1],\n",
       " ['Malawi', 0.20609696126983057, 0.14091780440065724, 1],\n",
       " ['India', 0.205980217197983, 0.07759169863282328, 1],\n",
       " ['Tanzania', 0.2038322051690017, 0.14198020391062222, 1],\n",
       " ['Philippines', 0.20350272087504975, 0.13447379206988136, 1],\n",
       " ['Norway', 0.2025820955863, 0.19311817355250352, 1],\n",
       " ['Nicaragua', 0.1950900434219722, 0.16949211243890494, 1],\n",
       " ['Cyprus', 0.19414121941561635, 0.18049274980659663, 1],\n",
       " ['Russia', 0.18836763889796754, 0.20672283879434816, 0],\n",
       " ['Venezuela', 0.18339382670049353, 0.14563959609805366, 1],\n",
       " ['Mongolia', 0.18323259632891803, 0.11941553863492453, 1],\n",
       " ['Peru', 0.18142511560553035, 0.17135749982681373, 1],\n",
       " ['Burkina Faso', 0.18009440767184517, 0.10105264088908084, 1],\n",
       " ['Mozambique', 0.17476382737681775, 0.10173931620873505, 1],\n",
       " ['Iceland', 0.17449957309338815, 0.2345035226224321, 0],\n",
       " ['Netherlands', 0.173653763258985, 0.16603909956336604, 1],\n",
       " ['Nepal', 0.17276003832909725, 0.1356637600373339, 1],\n",
       " ['Armenia', 0.1722090655451965, 0.16402243219080156, 1],\n",
       " ['Ethiopia', 0.17206231156683627, 0.07459392887545804, 1],\n",
       " ['United Arab Emirates', 0.17110218812701616, 0.14612763334865567, 1],\n",
       " ['Pakistan', 0.1656488870134016, 0.09642658415379483, 1],\n",
       " ['Mauritania', 0.16285997320163825, 0.09635623973391637, 1],\n",
       " ['Senegal', 0.1603175575572207, 0.1382547388389605, 1],\n",
       " ['Cameroon', 0.15336696439382702, 0.15214721518583715, 1],\n",
       " ['Ivory Coast', 0.15218079193791695, 0.09836593152998492, 1],\n",
       " ['Comoros', 0.1477047304824692, 0.11439222999000422, 1],\n",
       " ['Guinea', 0.14606303152522693, 0.08458653622186581, 1],\n",
       " ['Dominican Republic', 0.14320194641514467, 0.15390595991062495, 0],\n",
       " ['Rwanda', 0.14297156987026116, 0.11843122330784213, 1],\n",
       " ['Albania', 0.14003277492460492, 0.21116469533385998, 0],\n",
       " ['Iraq', 0.13875012019297295, 0.14294734105993892, 0],\n",
       " ['Sri Lanka', 0.1384542295662384, 0.1289256589693252, 1],\n",
       " ['Liberia', 0.132918867928672, 0.1082402808646069, 1],\n",
       " ['Uganda', 0.13150194127538561, 0.1365624079708635, 0],\n",
       " ['Togo', 0.13101643449793637, 0.1340917381950487, 0],\n",
       " ['Niger', 0.12939773209553013, 0.13737053776988803, 0],\n",
       " ['Zambia', 0.12830195061499242, 0.13423917874076177, 0],\n",
       " ['The Gambia', 0.1281069233360934, 0.11243461553712783, 1],\n",
       " ['Thailand', 0.12334148782573584, 0.11536415478024861, 1],\n",
       " ['Indonesia', 0.1211126343696852, 0.14799338490993266, 0],\n",
       " ['Nigeria', 0.11202023755153424, 0.09475974665868882, 1],\n",
       " ['Mali', 0.11144554449063407, 0.10310879090418593, 1],\n",
       " ['Benin', 0.1027007985781454, 0.09127729505858499, 1],\n",
       " ['Sierra Leone', 0.10244782782788753, 0.10176300999302287, 1],\n",
       " ['Burundi', 0.09379931681242445, 0.08678732481485948, 1],\n",
       " ['Guatemala', 0.0927929330513197, 0.11775217029895917, 0],\n",
       " ['Chad', 0.08973436340939048, 0.10407971903516681, 0],\n",
       " ['Madagascar', 0.08149587088673288, 0.08518732755744005, 0],\n",
       " ['Namibia', 0.07805076123861443, 0.09233096430764093, 0],\n",
       " ['Republic of Congo', 0.07392092140673284, 0.09365068289513476, 0],\n",
       " ['Haiti', 0.06936926288193218, 0.14111462689033846, 0],\n",
       " ['Malaysia', 0.06643652951894785, 0.10953636329811572, 0],\n",
       " ['Vietnam', 0.06466779638629401, 0.10210644465724278, 0],\n",
       " ['Laos', 0.04950940406751287, 0.10482910533006734, 0],\n",
       " ['Ghana', 0.03911076292648826, 0.13922561549012946, 0],\n",
       " ['Botswana', 0.02463165186984661, 0.1312814267955393, 0],\n",
       " ['South Africa', 0.003645673071279155, 0.08696139111980271, 0]]"
      ]
     },
     "execution_count": 50,
     "metadata": {},
     "output_type": "execute_result"
    }
   ],
   "source": [
    "count_n_values = sorted(count_n_values, key=lambda tup: tup[1],reverse=True)\n",
    "count_n_values\n"
   ]
  },
  {
   "cell_type": "code",
   "execution_count": 51,
   "metadata": {},
   "outputs": [],
   "source": [
    "# import csv\n",
    "\n",
    "# with open(\"testfile.csv\", 'w', newline='') as myfile:\n",
    "#      wr = csv.writer(myfile, quoting=csv.QUOTE_ALL)\n",
    "#      wr.writerow(count_n_values)"
   ]
  },
  {
   "cell_type": "code",
   "execution_count": 52,
   "metadata": {},
   "outputs": [],
   "source": [
    "# import xlsxwriter\n",
    "\n",
    "# with xlsxwriter.Workbook('test3.xlsx') as workbook:\n",
    "#     worksheet = workbook.add_worksheet()\n",
    "\n",
    "#     for row_num, data in enumerate(count_n_values):\n",
    "#         worksheet.write_row(row_num, 0, data)"
   ]
  },
  {
   "cell_type": "code",
   "execution_count": 57,
   "metadata": {},
   "outputs": [],
   "source": [
    "%matplotlib qt \n",
    "# %matplotlib inline\n",
    "\n",
    "plt.rcdefaults()\n",
    "fig, ax = plt.subplots()\n",
    "\n",
    "vect_2_use = count_n_values[0:30]\n",
    "# vect_2_use = count_n_values\n",
    "# vect_2_use = count_n_values[-30:-1]\n",
    "\n",
    "len_bar = np.array(vect_2_use)[:,1].astype('float')\n",
    "error_bar = np.array(vect_2_use)[:,2].astype('float')\n",
    "countries = np.array(vect_2_use)[:,0]\n",
    "\n",
    "y_pos = np.arange(len(len_bar))\n",
    "\n",
    "ax.barh(y_pos, len_bar, xerr=error_bar, align='center')\n",
    "# ax.barh(y_pos, len_bar, align='center')\n",
    "ax.set_yticks(y_pos)\n",
    "ax.set_yticklabels(countries)\n",
    "ax.invert_yaxis()  # labels read top-to-bottom\n",
    "plt.xticks(rotation=45)\n",
    "\n",
    "\n",
    "plt.show()\n",
    "\n",
    "fig.savefig(\"figuretest.pdf\", bbox_inches='tight')"
   ]
  },
  {
   "cell_type": "code",
   "execution_count": 64,
   "metadata": {},
   "outputs": [
    {
     "data": {
      "image/png": "[encoded data removed]",
      "text/plain": [
       "<Figure size 432x288 with 1 Axes>"
      ]
     },
     "metadata": {},
     "output_type": "display_data"
    }
   ],
   "source": [
    "%matplotlib inline\n",
    "\n",
    "avg_diffs = np.array(count_n_values)[:,1].astype('float')\n",
    "\n",
    "fig, ax = plt.subplots()\n",
    "\n",
    "plt.hist(avg_diffs,bins=30)\n",
    "\n",
    "plt.show()\n"
   ]
  },
  {
   "cell_type": "code",
   "execution_count": 74,
   "metadata": {},
   "outputs": [
    {
     "name": "stderr",
     "output_type": "stream",
     "text": [
      "C:\\ProgramData\\Anaconda3\\lib\\site-packages\\matplotlib\\axes\\_axes.py:6462: UserWarning: The 'normed' kwarg is deprecated, and has been replaced by the 'density' kwarg.\n",
      "  warnings.warn(\"The 'normed' kwarg is deprecated, and has been \"\n"
     ]
    },
    {
     "data": {
      "image/png": "[encoded data removed]",
      "text/plain": [
       "<Figure size 432x288 with 1 Axes>"
      ]
     },
     "metadata": {},
     "output_type": "display_data"
    }
   ],
   "source": [
    "import seaborn as sns\n",
    "fig, ax = plt.subplots()\n",
    "sns.distplot(avg_diffs, bins=30)\n",
    "# sns.kdeplot(avg_diffs)\n",
    "plt.show()"
   ]
  }
 ],
 "metadata": {
  "kernelspec": {
   "display_name": "Python 3",
   "language": "python",
   "name": "python3"
  },
  "language_info": {
   "codemirror_mode": {
    "name": "ipython",
    "version": 3
   },
   "file_extension": ".py",
   "mimetype": "text/x-python",
   "name": "python",
   "nbconvert_exporter": "python",
   "pygments_lexer": "ipython3",
   "version": "3.8.5"
  }
 },
 "nbformat": 4,
 "nbformat_minor": 2
}

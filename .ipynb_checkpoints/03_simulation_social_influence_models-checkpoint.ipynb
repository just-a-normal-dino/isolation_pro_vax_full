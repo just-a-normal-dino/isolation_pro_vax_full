{
 "cells": [
  {
   "cell_type": "markdown",
   "metadata": {},
   "source": [
    "This notebook is dedicated to showing how the isolation parameter affects predictions in social influence models (i.e. the more isolation, the stronger the anti-vaccine population will be in the future)"
   ]
  },
  {
   "cell_type": "markdown",
   "metadata": {},
   "source": [
    "# Import packages"
   ]
  },
  {
   "cell_type": "code",
   "execution_count": 74,
   "metadata": {},
   "outputs": [],
   "source": [
    "# import packages\n",
    "# import sys\n",
    "# sys.path.insert(0, 'C:/Users/DeenoZord/Documents/All_Files_Laptop/Coding/Pyton_Files/Functions_and_modules')\n",
    "\n",
    "import numpy as np\n",
    "import pandas as pd\n",
    "import matplotlib.pyplot as plt\n",
    "import importlib\n",
    "\n",
    "import networkx as nx\n",
    "import random\n",
    "\n",
    "import winsound \n",
    "\n",
    "import pickle\n",
    "import scipy.stats as stt\n",
    "from wgm2018_pack import *\n",
    "\n",
    "from IPython.display import clear_output"
   ]
  },
  {
   "cell_type": "markdown",
   "metadata": {},
   "source": [
    "# Functions & relative classes"
   ]
  },
  {
   "cell_type": "markdown",
   "metadata": {},
   "source": [
    "In this first part we introduce all the functions to be used later. Many of them are used to provide a general framework for all the simulations. In such a way that the differences between models would be because of the formal model differences and not because each model has been written in a different way. In these models we have the following types of rules and properties:\n",
    "- network = the structure of the network for interaction (here a fully connected one)\n",
    "- Selection rule = how agents select each other for the interaction\n",
    "- update rule = how agents change opinion after interaction\n",
    "- tick = starting a new process of interaction"
   ]
  },
  {
   "cell_type": "markdown",
   "metadata": {},
   "source": [
    "### Special functions"
   ]
  },
  {
   "cell_type": "markdown",
   "metadata": {},
   "source": [
    "##### For dictionaries"
   ]
  },
  {
   "cell_type": "code",
   "execution_count": 75,
   "metadata": {},
   "outputs": [],
   "source": [
    "# Calculates the mean from the values of a dictionary\n",
    "def dic_mean(dic):\n",
    "    vals_ = [dic[key] for key in dic]\n",
    "    vals_ = np.array(vals_)\n",
    "    return np.mean(vals_)"
   ]
  },
  {
   "cell_type": "code",
   "execution_count": 76,
   "metadata": {},
   "outputs": [],
   "source": [
    "def dic2array(dic):\n",
    "    x = []\n",
    "    y = []\n",
    "    for key in dic:\n",
    "        x.append(key)\n",
    "        y.append(dic[key])\n",
    "        \n",
    "    return [x,y]"
   ]
  },
  {
   "cell_type": "code",
   "execution_count": 77,
   "metadata": {},
   "outputs": [],
   "source": [
    "def array2dic(x,y):\n",
    "    dic = dict()\n",
    "    \n",
    "    for i in range(0,len(x)):\n",
    "        xi = x[i]\n",
    "        yi = y[i]\n",
    "        \n",
    "        dic[xi] = yi\n",
    "        \n",
    "    return dic"
   ]
  },
  {
   "cell_type": "markdown",
   "metadata": {},
   "source": [
    "##### Save and read"
   ]
  },
  {
   "cell_type": "code",
   "execution_count": 78,
   "metadata": {},
   "outputs": [],
   "source": [
    "def save_obj(obj, name ):\n",
    "    with open(name + '.pkl', 'wb') as f:\n",
    "        pickle.dump(obj, f, pickle.HIGHEST_PROTOCOL)\n",
    "\n",
    "def load_obj(name ):\n",
    "    with open(name + '.pkl', 'rb') as f:\n",
    "        return pickle.load(f)"
   ]
  },
  {
   "cell_type": "markdown",
   "metadata": {},
   "source": [
    "##### Other"
   ]
  },
  {
   "cell_type": "code",
   "execution_count": 79,
   "metadata": {},
   "outputs": [],
   "source": [
    "def get_index_below_thr(dic, thr):\n",
    "    \n",
    "    dic2 = dict()\n",
    "    \n",
    "    for key in dic:\n",
    "        el = dic[key]\n",
    "        \n",
    "        if el <= thr:\n",
    "            dic2[key] = el\n",
    "    return dic2"
   ]
  },
  {
   "cell_type": "code",
   "execution_count": 80,
   "metadata": {},
   "outputs": [],
   "source": [
    "def beep():\n",
    "    freq = 500\n",
    "    dur = 200\n",
    "    winsound.Beep(freq, dur)\n",
    "    \n",
    "    return"
   ]
  },
  {
   "cell_type": "markdown",
   "metadata": {},
   "source": [
    "### Functions for labelling"
   ]
  },
  {
   "cell_type": "code",
   "execution_count": 81,
   "metadata": {},
   "outputs": [],
   "source": [
    "# Initialize the names of the agents as a set of numbers\n",
    "def ordered_numbers_(self=None, N=10):\n",
    "    agents_list = [str(i) for i in range(0,N)]\n",
    "    if not (self==None):\n",
    "        self.labels = agents_list\n",
    "    else:\n",
    "        return agents_list"
   ]
  },
  {
   "cell_type": "markdown",
   "metadata": {},
   "source": [
    "Class containing all"
   ]
  },
  {
   "cell_type": "code",
   "execution_count": 82,
   "metadata": {},
   "outputs": [],
   "source": [
    "class generate_labels:\n",
    "    ordered_numbers = ordered_numbers_\n",
    "#     bb = number_naming"
   ]
  },
  {
   "cell_type": "markdown",
   "metadata": {},
   "source": [
    "### Functions for the Network"
   ]
  },
  {
   "cell_type": "code",
   "execution_count": 83,
   "metadata": {},
   "outputs": [],
   "source": [
    "def mk_lattice_(self=None, dim=10,labels=None,periodic=False):\n",
    "    # if dim is a single number it will make a square lattice dim*dim\n",
    "    if self!= None:\n",
    "        labels = self.labels\n",
    "        \n",
    "    if type(dim) == type(1):\n",
    "        dim = [dim, dim]\n",
    "        \n",
    "    G = nx.grid_graph(dim=dim,periodic=periodic)\n",
    "    \n",
    "    # Rename the nodes with the right names\n",
    "    nodes = list(G.nodes)\n",
    "    d = {el:labels[i] for i, el in enumerate(nodes)}\n",
    "    G = nx.relabel_nodes(G,d)\n",
    "    \n",
    "    if self!= None:    \n",
    "        self.network = G\n",
    "    else:\n",
    "        return G\n",
    "    "
   ]
  },
  {
   "cell_type": "markdown",
   "metadata": {},
   "source": [
    "class"
   ]
  },
  {
   "cell_type": "code",
   "execution_count": 84,
   "metadata": {},
   "outputs": [],
   "source": [
    "class mk_network:\n",
    "    mk_lattice = mk_lattice_"
   ]
  },
  {
   "cell_type": "markdown",
   "metadata": {},
   "source": [
    "### Functions for Initializing opinions"
   ]
  },
  {
   "cell_type": "code",
   "execution_count": 85,
   "metadata": {},
   "outputs": [],
   "source": [
    "# Initialize the agents with random opinions from min and max [uniform distribution]\n",
    "def rand_opinions_(self=None, labels=None, min_=0, max_=1):\n",
    "    if self!=None:\n",
    "        labels = self.labels\n",
    "#     else:\n",
    "#         print(\"self not passed\")\n",
    "        \n",
    "    N = len(labels)\n",
    "    op_vec = (np.random.rand(N)*(max_-min_))+min_\n",
    "    dic_op = {labels[i]:op_vec[i] for i in range(0,N)}\n",
    "    \n",
    "    if self!=None:\n",
    "        self.opinions = dic_op\n",
    "    else:\n",
    "        return dic_op"
   ]
  },
  {
   "cell_type": "code",
   "execution_count": 86,
   "metadata": {},
   "outputs": [],
   "source": [
    "# Initialize from a specific distribution\n",
    "# x_distrib represents the value, while\n",
    "# y_distrib represents their distribution\n",
    "def op_from_distrib_(self=None, x_distrib=[], y_distrib=[], labels=None):\n",
    "    if self!=None:\n",
    "        labels = self.labels\n",
    "        \n",
    "    dic_op = {}\n",
    "        \n",
    "    N = len(labels)\n",
    "    \n",
    "    # renormalize y\n",
    "    y_distrib = np.array(y_distrib)\n",
    "    y_distrib = y_distrib/np.sum(y_distrib)\n",
    "    \n",
    "    index_distrib = list(range(0,len(x_distrib)))\n",
    "    \n",
    "    for i in range(0,N):\n",
    "        found = False\n",
    "        \n",
    "        while not found:\n",
    "            \n",
    "            ii = random.choice(index_distrib)\n",
    "            \n",
    "            xi = x_distrib[ii]\n",
    "            yi = y_distrib[ii]\n",
    "            \n",
    "            r = np.random.rand()\n",
    "            \n",
    "            if yi>r:\n",
    "                found = True\n",
    "                dic_op[labels[i]] = xi\n",
    "    \n",
    "    if self!=None:\n",
    "        self.opinions = dic_op\n",
    "    else:\n",
    "        return dic_op"
   ]
  },
  {
   "cell_type": "code",
   "execution_count": 87,
   "metadata": {},
   "outputs": [],
   "source": [
    "# Initialize from a specific distribution\n",
    "# x_distrib represents the value, while\n",
    "# y_distrib represents their distribution\n",
    "def axel_from_distrib_(self=None, x_distrib=[], y_distrib=[], labels=None):\n",
    "    if self!=None:\n",
    "        labels = self.labels\n",
    "        \n",
    "    dic_op = {}\n",
    "        \n",
    "    N = len(labels)\n",
    "    \n",
    "    # renormalize y\n",
    "    y_distrib = np.array(y_distrib)\n",
    "    y_distrib = y_distrib/np.min(y_distrib[y_distrib>0])\n",
    "    y_distrib = np.round(y_distrib)\n",
    "    \n",
    "    x_distrib2 = []\n",
    "    for i, xi in enumerate(x_distrib):\n",
    "        yi = int(y_distrib[i])\n",
    "        x_distrib2 = x_distrib2 + ([xi]*yi)\n",
    "    \n",
    "    for i in range(0,N):\n",
    "        dic_op[labels[i]] = random.choice(x_distrib2)\n",
    "        \n",
    "    \n",
    "    if self!=None:\n",
    "        self.opinions = dic_op\n",
    "    else:\n",
    "        return dic_op"
   ]
  },
  {
   "cell_type": "code",
   "execution_count": 88,
   "metadata": {},
   "outputs": [],
   "source": [
    "def rand_op_axel_(self=None, labels=None, f=3, q=5):\n",
    "    if self!=None:\n",
    "        labels = self.labels\n",
    "    \n",
    "    ff = f-0.0001\n",
    "    dic_op = dict()\n",
    "    \n",
    "    for ag in labels:\n",
    "        op = np.floor(np.random.rand(q)*ff)\n",
    "        dic_op[ag] = op\n",
    "        \n",
    "    if self!=None:\n",
    "        self.opinions = dic_op\n",
    "    else:\n",
    "        return dic_op"
   ]
  },
  {
   "cell_type": "markdown",
   "metadata": {},
   "source": [
    "Class"
   ]
  },
  {
   "cell_type": "code",
   "execution_count": 89,
   "metadata": {},
   "outputs": [],
   "source": [
    "class initialize_opinions:\n",
    "    rand_opinions = rand_opinions_\n",
    "    rand_op_axel = rand_op_axel_\n",
    "    op_from_distrib = op_from_distrib_\n",
    "    axel_from_distrib = axel_from_distrib_"
   ]
  },
  {
   "cell_type": "markdown",
   "metadata": {},
   "source": [
    "### Selection rules\n",
    "\n",
    "i.e. how agents select each other"
   ]
  },
  {
   "cell_type": "code",
   "execution_count": 90,
   "metadata": {},
   "outputs": [],
   "source": [
    "def select_random_(self=None, lab=None):\n",
    "    if self!= None:\n",
    "        lab = self.labels\n",
    "    \n",
    "    lab_c = lab.copy()\n",
    "    ag1 = random.choice(lab_c)\n",
    "    lab_c.remove(ag1) # remove it so it won't be choosen for ag2\n",
    "    \n",
    "    ag2 = random.choice(lab_c)\n",
    "    \n",
    "    if self!= None:\n",
    "        self.selected_agents =[ag1,ag2]\n",
    "    else:\n",
    "        return [ag1,ag2]"
   ]
  },
  {
   "cell_type": "code",
   "execution_count": 91,
   "metadata": {},
   "outputs": [],
   "source": [
    "def select_deff_random_(self=None, lab=None, opinions= None, eps=None):\n",
    "    # Note: if it's not able to find an element in the range it'll give back a none\n",
    "    \n",
    "    if self!= None:\n",
    "        lab = self.labels\n",
    "        eps = self.parameters[\"eps\"]\n",
    "        opinions = self.opinions\n",
    "        \n",
    "    lab_c = lab.copy()\n",
    "#     print(labels)\n",
    "    ag1 = random.choice(lab_c)\n",
    "    op1 = opinions[ag1]\n",
    "    \n",
    "    lab_c.remove(ag1) # remove it so it won't be choosen for ag2\n",
    "    \n",
    "    over = False\n",
    "    \n",
    "    while not over:\n",
    "        if len(lab_c) > 1:\n",
    "            ag2 = random.choice(lab_c)\n",
    "            op2 = opinions[ag2]\n",
    "            if np.abs(op2-op1) <= eps:\n",
    "                over = True\n",
    "            else:\n",
    "                try:\n",
    "                    lab_c.remove(ag2)\n",
    "                except:\n",
    "                    op2 = None\n",
    "                    over = True\n",
    "        else:\n",
    "            op2 = None\n",
    "            over = True\n",
    "    \n",
    "    if self!= None:\n",
    "        self.selected_agents =[ag1,ag2]\n",
    "    else:\n",
    "        return [ag1,ag2]"
   ]
  },
  {
   "cell_type": "code",
   "execution_count": 92,
   "metadata": {},
   "outputs": [],
   "source": [
    "# The first agent is selected randomly and then it selects all the other within epsilon\n",
    "def select_HK_random_(self=None, lab=None, opinions=None, eps=None):\n",
    "    # Note: if it's not able to find an element in the range it'll give back a none\n",
    "    \n",
    "    if self!= None:\n",
    "        lab = self.labels\n",
    "        eps = self.parameters[\"eps\"]\n",
    "        opinions = self.opinions\n",
    "        \n",
    "    lab_c = lab.copy()\n",
    "#     print(labels)\n",
    "    ag1 = random.choice(lab_c)\n",
    "    op1 = opinions[ag1]\n",
    "    \n",
    "    ag_others = [ag for ag in opinions if np.abs(opinions[ag]-op1)<=eps]\n",
    "    ag_others.append(ag1)\n",
    "    \n",
    "    if self!= None:\n",
    "        self.selected_agents = ag_others\n",
    "    else:\n",
    "        return ag_others"
   ]
  },
  {
   "cell_type": "code",
   "execution_count": 93,
   "metadata": {},
   "outputs": [],
   "source": [
    "def select_neigh_(self=None, labels=None, net=None):\n",
    "    if self!= None:\n",
    "        lab = self.labels\n",
    "        net = self.network\n",
    "\n",
    "    # randomly choose the first agent\n",
    "    ag1 = random.choice(labels)\n",
    "    \n",
    "    neigh = net.neighbors(ag1)\n",
    "    \n",
    "    # choose the second from the neighbours\n",
    "    ag2 = random.choice(neigh)\n",
    "    \n",
    "    if self!= None:\n",
    "        self.selected_agents =[ag1,ag2]\n",
    "    else:\n",
    "        return [ag1,ag2]"
   ]
  },
  {
   "cell_type": "markdown",
   "metadata": {},
   "source": [
    "Class"
   ]
  },
  {
   "cell_type": "code",
   "execution_count": 94,
   "metadata": {},
   "outputs": [],
   "source": [
    "class make_selection_rule:\n",
    "    select_random = select_random_\n",
    "    select_neigh = select_neigh_\n",
    "    select_deff_random = select_deff_random_\n",
    "    select_HK_random = select_HK_random_"
   ]
  },
  {
   "cell_type": "markdown",
   "metadata": {},
   "source": [
    "### Update rules\n",
    "\n",
    "i.e. how agents change opinion after interaction"
   ]
  },
  {
   "cell_type": "code",
   "execution_count": 95,
   "metadata": {},
   "outputs": [],
   "source": [
    "def average_(self=None, selected_agents=None, opinions=None):\n",
    "    # suppose selected are 2 for now\n",
    "    if self!=None:\n",
    "        selected_agents = self.selected_agents # this is a list\n",
    "        opinions = self.opinions # this is a dic\n",
    "\n",
    "    \n",
    "    selected_op = [opinions[key] for key in selected_agents]\n",
    "    avg = np.mean(np.array(selected_op))\n",
    "    \n",
    "    # replace the values\n",
    "    if self!=None:\n",
    "        for key in selected_agents:\n",
    "            self.opinions[key] = avg\n",
    "    else:\n",
    "        for key in selected_agents:\n",
    "            opinions[key] = avg        \n",
    "        return opinions\n",
    "    "
   ]
  },
  {
   "cell_type": "code",
   "execution_count": 96,
   "metadata": {},
   "outputs": [],
   "source": [
    "def average_deff_(self=None, selected_agents=None, opinions=None, mu=None):\n",
    "    # suppose selected are 2 for now\n",
    "    if self!=None:\n",
    "        selected_agents = self.selected_agents # this is a list\n",
    "        opinions = self.opinions # this is a dic\n",
    "        mu = self.parameters[\"mu\"]\n",
    "\n",
    "    \n",
    "    selected_op = [opinions[key] for key in selected_agents]\n",
    "    avg = np.mean(np.array(selected_op))\n",
    "    \n",
    "    selected_op2 = {key:(opinions[key]*(1-2*mu)+avg*2*mu) for key in selected_agents}\n",
    "    \n",
    "    # replace the values\n",
    "    if self!=None:\n",
    "        for key in selected_agents:\n",
    "            self.opinions[key] = selected_op2[key]\n",
    "    else:\n",
    "        for key in selected_agents:\n",
    "            opinions[key] = selected_op2[key]  \n",
    "        return opinions\n",
    "    "
   ]
  },
  {
   "cell_type": "code",
   "execution_count": 97,
   "metadata": {},
   "outputs": [],
   "source": [
    "def geo_mean_(self=None, selected_agents=None, opinions=None):\n",
    "    # suppose selected are 2 for now\n",
    "    if self!=None:\n",
    "        selected_agents = self.selected_agents # this is a list\n",
    "        opinions = self.opinions # this is a dic\n",
    "\n",
    "    \n",
    "    selected_op = [opinions[key] for key in selected_agents]\n",
    "    avg = stt.mstats.gmean(np.array(selected_op))\n",
    "    \n",
    "    # replace the values\n",
    "    if self!=None:\n",
    "        for key in selected_agents:\n",
    "            self.opinions[key] = avg\n",
    "    else:\n",
    "        for key in selected_agents:\n",
    "            opinions[key] = avg        \n",
    "        return opinions"
   ]
  },
  {
   "cell_type": "code",
   "execution_count": 98,
   "metadata": {},
   "outputs": [],
   "source": [
    "def h_mean_(self=None, selected_agents=None, opinions=None):\n",
    "    # suppose selected are 2 for now\n",
    "    if self!=None:\n",
    "        selected_agents = self.selected_agents # this is a list\n",
    "        opinions = self.opinions # this is a dic\n",
    "\n",
    "    \n",
    "    selected_op = [opinions[key] for key in selected_agents]\n",
    "    avg = stt.mstats.hmean(np.array(selected_op))\n",
    "    \n",
    "    # replace the values\n",
    "    if self!=None:\n",
    "        for key in selected_agents:\n",
    "            self.opinions[key] = avg\n",
    "    else:\n",
    "        for key in selected_agents:\n",
    "            opinions[key] = avg        \n",
    "        return opinions"
   ]
  },
  {
   "cell_type": "code",
   "execution_count": 99,
   "metadata": {},
   "outputs": [],
   "source": [
    "def copy_trait_(self=None, selected_agents=None, opinions=None):\n",
    "    # suppose selected are 2 for now\n",
    "    if self!=None:\n",
    "        selected_agents = self.selected_agents # this is a list\n",
    "        opinions = self.opinions # this is a dic\n",
    "        \n",
    "    op1 = np.array(opinions[selected_agents[0]])\n",
    "    op2 = np.array(opinions[selected_agents[1]])\n",
    "    \n",
    "    unshered_op_mask = op1!=op2\n",
    "    indeces = np.array(range(0,len(op1)))\n",
    "    indeces = indeces[unshered_op_mask]\n",
    "    \n",
    "    if len(indeces) > 0:\n",
    "        i = random.choice(indeces)\n",
    "        op2[i] = op1[i]\n",
    "        \n",
    "        if self!=None:\n",
    "            self.opinions[selected_agents[0]] = op1\n",
    "            self.opinions[selected_agents[1]] = op2\n",
    "    "
   ]
  },
  {
   "cell_type": "code",
   "execution_count": 100,
   "metadata": {},
   "outputs": [],
   "source": [
    "def copy_trait_distance_(self=None, selected_agents=None, opinions=None):\n",
    "    # suppose selected are 2 for now\n",
    "    \n",
    "    if self!=None:\n",
    "        selected_agents = self.selected_agents # this is a list\n",
    "        opinions = self.opinions # this is a dic\n",
    "        \n",
    "    op1 = np.array(opinions[selected_agents[0]])\n",
    "    op2 = np.array(opinions[selected_agents[1]])\n",
    "    \n",
    "    rel_distance = np.abs(np.sum(op1)-np.sum(op2))/self.parameters[\"max_distance\"]\n",
    "    proximity = (np.sum(op1==op2))/len(op1) * (1-rel_distance)**0\n",
    "#     print(\"prox\", proximity )\n",
    "    \n",
    "    r = np.random.rand()\n",
    "    \n",
    "    if r < proximity:\n",
    "        unshered_op_mask = op1!=op2\n",
    "        indeces = np.array(range(0,len(op1)))\n",
    "        indeces = indeces[unshered_op_mask]\n",
    "\n",
    "        if len(indeces) > 0:\n",
    "            i = random.choice(indeces)\n",
    "            op1[i] = op2[i]\n",
    "\n",
    "            if self!=None:\n",
    "                self.opinions[selected_agents[0]] = op1\n",
    "                self.opinions[selected_agents[1]] = op2\n",
    "    "
   ]
  },
  {
   "cell_type": "markdown",
   "metadata": {},
   "source": [
    "Class"
   ]
  },
  {
   "cell_type": "code",
   "execution_count": 101,
   "metadata": {},
   "outputs": [],
   "source": [
    "class make_interaction:\n",
    "    average = average_\n",
    "    copy_trait = copy_trait_\n",
    "    average_deff = average_deff_\n",
    "    geo_mean = geo_mean_\n",
    "    h_mean = h_mean_"
   ]
  },
  {
   "cell_type": "markdown",
   "metadata": {},
   "source": [
    "### Observables"
   ]
  },
  {
   "cell_type": "code",
   "execution_count": 102,
   "metadata": {},
   "outputs": [],
   "source": [
    "def op_dic_(self=None, opinions=None):\n",
    "    \n",
    "    if self!=None:\n",
    "        opinions = self.opinions\n",
    "\n",
    "    if self!=None:\n",
    "        self.observables['opinions'] = opinions\n",
    "    else:\n",
    "        return opinions"
   ]
  },
  {
   "cell_type": "code",
   "execution_count": 103,
   "metadata": {},
   "outputs": [],
   "source": [
    "def op_arr_(self=None, opinions=None):\n",
    "    \n",
    "    if self!=None:\n",
    "        opinions = self.opinions\n",
    "\n",
    "    if self!=None:\n",
    "        self.observables['opinions'] = dic2array(opinions)[1]\n",
    "    else:\n",
    "        return opinions"
   ]
  },
  {
   "cell_type": "code",
   "execution_count": 104,
   "metadata": {},
   "outputs": [],
   "source": [
    "def average_op_(self=None, opinions=None):\n",
    "    \n",
    "    if self!=None:\n",
    "        opinions = self.opinions\n",
    "    \n",
    "    avg = np.mean(np.array(list(opinions.values())))\n",
    "    \n",
    "    if self!=None:\n",
    "        self.observables['avg'] = avg\n",
    "    else:\n",
    "        return avg"
   ]
  },
  {
   "cell_type": "code",
   "execution_count": 105,
   "metadata": {},
   "outputs": [],
   "source": [
    "def sum_op_(self=None, opinions=None):\n",
    "    if self!=None:\n",
    "        opinions = self.opinions\n",
    "    \n",
    "    sum_ = np.sum(np.array(list(opinions.values())))\n",
    "    \n",
    "    if self!=None:\n",
    "        self.observables['sum'] = sum_\n",
    "    else:\n",
    "        return sum_"
   ]
  },
  {
   "cell_type": "code",
   "execution_count": 106,
   "metadata": {},
   "outputs": [],
   "source": [
    "def frequency_op_(self=None, opinions=None):\n",
    "    if self!=None:\n",
    "        op_dic = self.opinions\n",
    "        \n",
    "    freq = dict()\n",
    "    for key in op_dic:\n",
    "        el = op_dic[key]\n",
    "\n",
    "        if el in freq:\n",
    "            freq[el] += 1\n",
    "        else:\n",
    "            freq[el] = 1\n",
    "\n",
    "    if self!=None:\n",
    "        self.observables['frequency_op'] = freq\n",
    "    else:\n",
    "        return freq\n"
   ]
  },
  {
   "cell_type": "markdown",
   "metadata": {},
   "source": [
    "class"
   ]
  },
  {
   "cell_type": "code",
   "execution_count": 107,
   "metadata": {},
   "outputs": [],
   "source": [
    "class make_observables:\n",
    "    average_op = average_op_\n",
    "    sum_op = sum_op_\n",
    "    op_arr = op_arr_\n",
    "    op_dic = op_dic_\n",
    "    frequency_op = frequency_op_"
   ]
  },
  {
   "cell_type": "markdown",
   "metadata": {},
   "source": [
    "# Functions for running and ticking"
   ]
  },
  {
   "cell_type": "markdown",
   "metadata": {},
   "source": [
    "### Ticks"
   ]
  },
  {
   "cell_type": "code",
   "execution_count": 108,
   "metadata": {},
   "outputs": [],
   "source": [
    "def tick_classic_(self):\n",
    "#     self.selec_rule(self)\n",
    "#     self.up_rule(self)\n",
    "    self.selec_rule()\n",
    "    self.up_rule()\n",
    "    "
   ]
  },
  {
   "cell_type": "markdown",
   "metadata": {},
   "source": [
    "class"
   ]
  },
  {
   "cell_type": "code",
   "execution_count": 109,
   "metadata": {},
   "outputs": [],
   "source": [
    "class ticks:\n",
    "    tick_classic = tick_classic_"
   ]
  },
  {
   "cell_type": "markdown",
   "metadata": {},
   "source": [
    "### Run"
   ]
  },
  {
   "cell_type": "code",
   "execution_count": 110,
   "metadata": {},
   "outputs": [],
   "source": [
    "def run_N_times_(self=None,N=None):\n",
    "    if self!=None:\n",
    "        N = self.times_2_run\n",
    "        \n",
    "    for i in range(0,N):\n",
    "        self.tick()\n",
    "    "
   ]
  },
  {
   "cell_type": "markdown",
   "metadata": {},
   "source": [
    "Class"
   ]
  },
  {
   "cell_type": "code",
   "execution_count": 111,
   "metadata": {},
   "outputs": [],
   "source": [
    "class run:\n",
    "    run_N_times = run_N_times_"
   ]
  },
  {
   "cell_type": "markdown",
   "metadata": {},
   "source": [
    "# Main class"
   ]
  },
  {
   "cell_type": "code",
   "execution_count": 112,
   "metadata": {},
   "outputs": [],
   "source": [
    "class model:\n",
    "    observables = dict()\n",
    "    has_converged = False\n",
    "    times_2_run = 0\n",
    "    pass"
   ]
  },
  {
   "cell_type": "code",
   "execution_count": null,
   "metadata": {},
   "outputs": [],
   "source": []
  },
  {
   "cell_type": "markdown",
   "metadata": {},
   "source": [
    "# Functions for dealing with the data"
   ]
  },
  {
   "cell_type": "markdown",
   "metadata": {},
   "source": [
    "The following functions are used to deal with the fact that the vaccine data are based on 3 questions, while several models require only 1 opinion value. However, some models, such as the Axelrod one, work well with the three different questions. So we need to create a framework which can work with both of them"
   ]
  },
  {
   "cell_type": "code",
   "execution_count": 113,
   "metadata": {},
   "outputs": [],
   "source": [
    "def make_aggregate_prb(coeff_val=[0,1,2,3,5]): # this works directly with the Vaccine data\n",
    "    \n",
    "    dic_prb2 = dict()\n",
    "    \n",
    "    for raw_vec in dic_probability:\n",
    "        prb = dic_probability[raw_vec]\n",
    "        \n",
    "        new_vec = transform_raw_vec(vec=raw_vec, coeff_val=coeff_val)\n",
    "        \n",
    "        sum_ = np.sum(new_vec)\n",
    "        \n",
    "        if sum_ not in dic_prb2:\n",
    "            dic_prb2[sum_] = prb\n",
    "        else:\n",
    "            dic_prb2[sum_] += prb\n",
    "            \n",
    "    return dic_prb2"
   ]
  },
  {
   "cell_type": "code",
   "execution_count": 114,
   "metadata": {},
   "outputs": [
    {
     "data": {
      "text/plain": [
       "array([0, 0, 5])"
      ]
     },
     "execution_count": 114,
     "metadata": {},
     "output_type": "execute_result"
    }
   ],
   "source": [
    "def transform_raw_vec(vec='[0, 0, 4]', coeff_val=[0,1,2,3,5]):\n",
    "#     print(vec)\n",
    "    v_t = [int(vec[1]),int(vec[4]),int(vec[7])]\n",
    "    \n",
    "    v_2 = []\n",
    "    for el in v_t:\n",
    "        v_2.append(coeff_val[el])\n",
    "        \n",
    "    v_2 = np.array(v_2)\n",
    "    \n",
    "    return v_2\n",
    "\n",
    "transform_raw_vec()"
   ]
  },
  {
   "cell_type": "code",
   "execution_count": 115,
   "metadata": {},
   "outputs": [],
   "source": [
    "def standardize_score(score, min_,max_, mean_):\n",
    "    try:\n",
    "        len(score)\n",
    "        is_array = True\n",
    "    except:\n",
    "        is_array = False\n",
    "        \n",
    "    if is_array:\n",
    "        score2 = np.array(score)\n",
    "        score2 = score2-mean_\n",
    "        score2[score2>0] = score2[score2>0] / (max_-mean_)\n",
    "        score2[score2<0] = score2[score2<0] / (mean_-min_)\n",
    "    else:\n",
    "        score2 = score\n",
    "        score2 = score2-mean_\n",
    "        if score2 > 0:\n",
    "            score2 = score2 / (max_-mean_)\n",
    "        else:\n",
    "            score2 = score2 / (mean_-min_)\n",
    "    \n",
    "    return score2\n",
    "    "
   ]
  },
  {
   "cell_type": "code",
   "execution_count": 116,
   "metadata": {},
   "outputs": [],
   "source": [
    "# replaces 0 with 4 etc in such a way that 0 indicates anti-vax and 4 pro-vax\n",
    "def invert_dic(dic_): \n",
    "\n",
    "    dt_ = dict()\n",
    "\n",
    "    for key in dic_:\n",
    "        k = key\n",
    "\n",
    "        k = k.replace('0','a')\n",
    "        k = k.replace('1','b')\n",
    "        k = k.replace('2','c')\n",
    "        k = k.replace('3','d')\n",
    "        k = k.replace('4','e')\n",
    "\n",
    "        k = k.replace('a','4')\n",
    "        k = k.replace('b','3')\n",
    "        k = k.replace('c','2')\n",
    "        k = k.replace('d','1')\n",
    "        k = k.replace('e','0')\n",
    "\n",
    "        dt_[k] = dic_[key]\n",
    "\n",
    "    return dt_"
   ]
  },
  {
   "cell_type": "code",
   "execution_count": null,
   "metadata": {},
   "outputs": [],
   "source": []
  },
  {
   "cell_type": "markdown",
   "metadata": {},
   "source": [
    "# Lists"
   ]
  },
  {
   "cell_type": "code",
   "execution_count": 117,
   "metadata": {},
   "outputs": [],
   "source": [
    "att_list = [['Vaccines important to children:Strongly agree',\n",
    " 'Vaccines important to children:Somewhat agree',\n",
    " 'Vaccines important to children:Neither agree nor disagree',\n",
    " 'Vaccines important to children:Somewhat disagree',\n",
    " 'Vaccines important to children:Strongly disagree'],\n",
    " ['Vaccines Safe:Strongly agree',\n",
    " 'Vaccines Safe:Somewhat agree',\n",
    " 'Vaccines Safe:Neither agree nor disagree',\n",
    " 'Vaccines Safe:Somewhat disagree',\n",
    " 'Vaccines Safe:Strongly disagree'],\n",
    " ['Vaccines Effective:Strongly agree',\n",
    " 'Vaccines Effective:Somewhat agree',\n",
    " 'Vaccines Effective:Neither agree nor disagree',\n",
    " 'Vaccines Effective:Somewhat disagree',\n",
    " 'Vaccines Effective:Strongly disagree']]\n",
    "\n",
    "countries = countries_list"
   ]
  },
  {
   "cell_type": "code",
   "execution_count": 118,
   "metadata": {},
   "outputs": [],
   "source": [
    "list_aggr_vacc2 = ['vacc_neut_att',\n",
    " 'vacc_Wpos_att',\n",
    " 'vacc_Wneg_att',\n",
    " 'vacc_Sneg_att']\n",
    "\n",
    "list_aggr_vacc_Spos = ['vacc_Spos_att']\n",
    "\n",
    "list_aggr_vacc = [\"vacc_neut_att\", \"vacc_Wpos_att\", \"vacc_Spos_att\", \"vacc_Wneg_att\", \"vacc_Sneg_att\"]\n",
    "list_aggr_trust = [\"full_trust_att\", \"medium_trus_att\", \"medium_distrust_att\", \"full_distrust_att\"]\n",
    "list_aggr_ref = [\"refused_att\", \"dk_att\"]\n",
    "list_aggr_relig = [\"religion_att\"]"
   ]
  },
  {
   "cell_type": "code",
   "execution_count": 119,
   "metadata": {},
   "outputs": [],
   "source": [
    "vacc_neut_att = ['Vaccines important to children:Neither agree nor disagree', 'Vaccines Safe:Neither agree nor disagree', 'Vaccines Effective:Neither agree nor disagree']\n",
    "\n",
    "vacc_pos_att = ['Vaccines important to children:Strongly agree',\n",
    " 'Vaccines important to children:Somewhat agree','Vaccines Safe:Strongly agree',\n",
    " 'Vaccines Safe:Somewhat agree','Vaccines Effective:Strongly agree',\n",
    " 'Vaccines Effective:Somewhat agree']\n",
    "vacc_Wpos_att = ['Vaccines important to children:Somewhat agree',\n",
    "                 'Vaccines Safe:Somewhat agree', 'Vaccines Effective:Somewhat agree']\n",
    "vacc_Spos_att = ['Vaccines important to children:Strongly agree',\n",
    "                 'Vaccines Safe:Strongly agree', 'Vaccines Effective:Strongly agree']\n",
    "\n",
    "    \n",
    "vacc_neg_att = ['Vaccines important to children:Somewhat disagree',\n",
    " 'Vaccines important to children:Strongly disagree','Vaccines Safe:Somewhat disagree',\n",
    " 'Vaccines Safe:Strongly disagree','Vaccines Effective:Somewhat disagree',\n",
    " 'Vaccines Effective:Strongly disagree']\n",
    "vacc_Wneg_att = ['Vaccines important to children:Somewhat disagree',\n",
    "                 'Vaccines Safe:Somewhat disagree','Vaccines Effective:Somewhat disagree']\n",
    "vacc_Sneg_att = ['Vaccines important to children:Strongly disagree',\n",
    "                 'Vaccines Safe:Strongly disagree','Vaccines Effective:Strongly disagree']"
   ]
  },
  {
   "cell_type": "code",
   "execution_count": null,
   "metadata": {},
   "outputs": [],
   "source": []
  },
  {
   "cell_type": "markdown",
   "metadata": {},
   "source": [
    "# Initialize the data"
   ]
  },
  {
   "cell_type": "markdown",
   "metadata": {},
   "source": [
    "Calculate the distribution of opinions for each country"
   ]
  },
  {
   "cell_type": "code",
   "execution_count": 120,
   "metadata": {},
   "outputs": [],
   "source": [
    "distributions_dic = dict()\n",
    "\n",
    "for country in countries:\n",
    "    country_mask = wgm_labels[\"Country\"] == country\n",
    "    df_country = wgm_bool.copy()\n",
    "    df_country = df_country[country_mask]\n",
    "    \n",
    "    dict_t = dict()\n",
    "    \n",
    "    max_ = 0\n",
    "    \n",
    "    for j1 in range(0,4+1):\n",
    "        for j2 in range(0,4+1):\n",
    "            for j3 in range(0,4+1):\n",
    "                vec = [j1, j2, j3]\n",
    "                \n",
    "                selected_atts = [att_list[0][j1], att_list[1][j2], att_list[2][j3]]\n",
    "                \n",
    "                m1 = df_country[selected_atts[0]]\n",
    "                m2 = df_country[selected_atts[1]]\n",
    "                m3 = df_country[selected_atts[2]]\n",
    "                \n",
    "                mm = m1 & m2 & m3\n",
    "#                 print(mm)\n",
    "\n",
    "                sum_ = np.sum(mm)\n",
    "                dict_t[str(vec)] = sum_\n",
    "        \n",
    "                if max_ < sum_:\n",
    "                    max_ = sum_\n",
    "                    \n",
    "    for key in dict_t:\n",
    "        dict_t[key] = dict_t[key]/max_\n",
    "        \n",
    "    distributions_dic[country] = dict_t"
   ]
  },
  {
   "cell_type": "code",
   "execution_count": 121,
   "metadata": {},
   "outputs": [],
   "source": [
    "def spearmanr_(*args):\n",
    "    # this version returns only r, which will be used for making the network\n",
    "    [r,p] = stt.spearmanr(*args)\n",
    "    \n",
    "    return r"
   ]
  },
  {
   "cell_type": "code",
   "execution_count": 122,
   "metadata": {},
   "outputs": [],
   "source": [
    "def check_avg_corr(list_of_aggregated_nodes, list_of_aggregated_nodes_n, metrics, exclude_same_question=True, print_=False,  df=wgm_bool):\n",
    "    # The first aggregated node is the one that you'll use to calculate the correlation\n",
    "    \n",
    "#     print(list_of_aggregated_nodes_n)\n",
    "    a_node_i_name = list_of_aggregated_nodes_n[0]\n",
    "    a_node_i = list_of_aggregated_nodes[0]\n",
    "    \n",
    "    count = 0\n",
    "    for j, a_node_j_name in enumerate(list_of_aggregated_nodes_n):\n",
    "        if j == 0:\n",
    "            pass\n",
    "        else:            \n",
    "            a_node_j = list_of_aggregated_nodes[j]\n",
    "\n",
    "    #         count = 0\n",
    "            avg_weight = 0\n",
    "    #             print(a_node_i)\n",
    "            for ii, node_i in enumerate(a_node_i):\n",
    "                for jj, node_j in enumerate(a_node_j):\n",
    "\n",
    "    #                         if print_:\n",
    "    #                             n_tot = len(list_of_nodes)**2\n",
    "    #                             current = (i*len(list_of_nodes))+(j)\n",
    "    #                             print(current,\"/\",n_tot, \" = \", np.round(current/n_tot,decimals=2))\n",
    "\n",
    "                    if exclude_same_question:\n",
    "                        if node_i.split(sep=':')[0] == node_j.split(sep=':')[0]:\n",
    "                            # if they belong to the same question\n",
    "                            continue\n",
    "\n",
    "                    [c1,c2] = get_col_values([node_i,node_j],df=df)\n",
    "                    weight = metrics(c1,c2)\n",
    "\n",
    "                    if not np.isnan(weight):\n",
    "                        avg_weight = (weight + avg_weight*count)/(count+1)\n",
    "                        count += 1\n",
    "\n",
    "    return avg_weight"
   ]
  },
  {
   "cell_type": "markdown",
   "metadata": {},
   "source": [
    "# Calculate the isolation parameter for each country"
   ]
  },
  {
   "cell_type": "code",
   "execution_count": null,
   "metadata": {},
   "outputs": [],
   "source": [
    "df_tot = wgm_bool\n",
    "\n",
    "df = df_tot \n",
    "    \n",
    "country_corr_dict = dict()\n",
    "\n",
    "exclude_same_question = True # True or false\n",
    "\n",
    "metrics = spearmanr_ \n",
    "list_of_aggregated_nodes_n = list_aggr_vacc_Spos+list_aggr_vacc2 # Best\n",
    "\n",
    "list_of_aggregated_nodes = []\n",
    "for name in list_of_aggregated_nodes_n:\n",
    "    exec(\"t = \"+name)\n",
    "    list_of_aggregated_nodes.append(t)\n",
    "\n",
    "#########################################################################\n",
    "no_vax_score_vec = []\n",
    "corr_score_vec = []\n",
    "n_notSpos = []\n",
    "n_Spos = []\n",
    "\n",
    "# For each country in the df\n",
    "country_list_df = [col for col in df.columns if \"Country:\" in col] # select the country columns\n",
    "country_list_df = [col for col in country_list_df if np.sum(df[col]) > 0] # select the ones that have no 0 elements\n",
    "\n",
    "country_count = 0\n",
    "tot_country = len(country_list_df)\n",
    "for count_col in country_list_df:\n",
    "    country_count += 1\n",
    "#     print(country_count, \" out of \", tot_country)\n",
    "    \n",
    "    df_count = df [ df[count_col] == 1]\n",
    "    avg_corr = check_avg_corr(list_of_aggregated_nodes, list_of_aggregated_nodes_n, metrics, exclude_same_question=exclude_same_question, print_=False,  df=df_count)\n",
    "    \n",
    "    if (not np.isnan(avg_corr)):\n",
    "        country_corr_dict[count_col.split(':')[1]] = avg_corr \n",
    "        \n",
    "    clear_output()\n",
    "        "
   ]
  },
  {
   "cell_type": "code",
   "execution_count": null,
   "metadata": {},
   "outputs": [],
   "source": []
  },
  {
   "cell_type": "markdown",
   "metadata": {},
   "source": [
    "# Run the models"
   ]
  },
  {
   "cell_type": "markdown",
   "metadata": {},
   "source": [
    "Now we run each model on the WGM data and see how they affect the skeptic people"
   ]
  },
  {
   "cell_type": "markdown",
   "metadata": {},
   "source": [
    "### Deffuant"
   ]
  },
  {
   "cell_type": "markdown",
   "metadata": {},
   "source": [
    "Firstly define the deffuant model by specifying all the rules"
   ]
  },
  {
   "cell_type": "code",
   "execution_count": 51,
   "metadata": {},
   "outputs": [],
   "source": [
    "class deffuant_alt1(model):\n",
    "    # initialization\n",
    "    make_lab = generate_labels.ordered_numbers\n",
    "    init_op = initialize_opinions.op_from_distrib\n",
    "    \n",
    "    # rules\n",
    "    selec_rule = make_selection_rule.select_deff_random\n",
    "    up_rule = make_interaction.average_deff\n",
    "    \n",
    "    # observables\n",
    "    mk_ob_op = make_observables.op_dic\n",
    "    mk_ob_avg = make_observables.average_op\n",
    "    mk_op_frq = make_observables.frequency_op\n",
    "    \n",
    "    # Run\n",
    "    tick = ticks.tick_classic\n",
    "    run = run.run_N_times"
   ]
  },
  {
   "cell_type": "code",
   "execution_count": 52,
   "metadata": {},
   "outputs": [],
   "source": [
    "deff = deffuant_alt1()"
   ]
  },
  {
   "cell_type": "markdown",
   "metadata": {},
   "source": [
    "Determine the parameters (eps is the threshold)"
   ]
  },
  {
   "cell_type": "code",
   "execution_count": 53,
   "metadata": {},
   "outputs": [],
   "source": [
    "    # parameters\n",
    "N_agents = 1000\n",
    "Run_times = 20 # each agent will be run, on average this number of time!\n",
    "deff.parameters = {\"mu\":0.5, \"eps\":3, \"N_agents\":N_agents}\n",
    "deff.times_2_run = N_agents*Run_times"
   ]
  },
  {
   "cell_type": "markdown",
   "metadata": {},
   "source": [
    "Run the model"
   ]
  },
  {
   "cell_type": "code",
   "execution_count": 54,
   "metadata": {},
   "outputs": [],
   "source": [
    "# Lists for storing the simulated data\n",
    "initial_score = []\n",
    "final_score = []\n",
    "correlation_score = []\n",
    "\n",
    "repetitions = 1000 # This determines the number of simulated countries (i.e. the number of points in the plot)\n",
    "\n",
    "dic_pred_deff = {}\n",
    "\n",
    "for rr in range(0,repetitions):\n",
    "    \n",
    "    # Select one random country\n",
    "    country = random.choice(list(distributions_dic.keys()))\n",
    "    country_corr = country_corr_dict[country]\n",
    "    \n",
    "    # Make the dictionary with the prb of answers\n",
    "    dic_probability = distributions_dic[country] # this is the dictionary that will be used for cheching the probabilities\n",
    "    dic_probability = invert_dic(dic_probability) # invert the dic probability (e.g. 4 to 0)\n",
    "    \n",
    "    deff.make_lab(N=N_agents) # initialize the model\n",
    "\n",
    "    value_of_answers = [0,1,2,3,4] # specify the type of answers\n",
    "\n",
    "    dd = make_aggregate_prb(coeff_val=np.array(value_of_answers)) # turn the answers into a single score\n",
    "\n",
    "    x = []\n",
    "    y = []\n",
    "    for key in dd:\n",
    "        x.append(key)\n",
    "        y.append(dd[key])\n",
    "\n",
    "    deff.init_op(x_distrib=x, y_distrib=y)\n",
    "\n",
    "    # Find the skeptics and their initial score\n",
    "    min_ = np.min(x)\n",
    "    mean_= value_of_answers[2]*3\n",
    "    max_ = np.max(x)\n",
    "\n",
    "    threshold = mean_ # below this value you are considered skeptic\n",
    "\n",
    "    initial_below_thr = get_index_below_thr(deff.opinions, thr=threshold)\n",
    "    avg1 = dic_mean(initial_below_thr)\n",
    "    labels_initial_below = [key for key in initial_below_thr]\n",
    "\n",
    "    score0 = standardize_score(avg1, min_, max_, mean_)\n",
    "\n",
    "    # Run\n",
    "    deff.run()\n",
    "\n",
    "    # Get the data from the end of the simulation\n",
    "    op_dic = deff.opinions\n",
    "    # Get the agents which were initially skeptics\n",
    "    new_below_thr = {key:op_dic[key] for key in labels_initial_below}\n",
    "\n",
    "    avg1 = dic_mean(new_below_thr)\n",
    "    score_fin = standardize_score(avg1, min_, max_, mean_)\n",
    "    \n",
    "    if not np.isnan(score_fin):\n",
    "        initial_score.append(score0)\n",
    "        final_score.append(score_fin)\n",
    "        correlation_score.append(country_corr)\n",
    "        dic_pred_deff[country] = score_fin\n",
    "\n",
    "beep()"
   ]
  },
  {
   "cell_type": "code",
   "execution_count": 55,
   "metadata": {},
   "outputs": [
    {
     "name": "stdout",
     "output_type": "stream",
     "text": [
      "SpearmanrResult(correlation=-0.4242329619819221, pvalue=5.926421219012715e-45)\n"
     ]
    },
    {
     "data": {
      "image/png": "[encoded data removed]",
      "text/plain": [
       "<Figure size 432x288 with 1 Axes>"
      ]
     },
     "metadata": {
      "needs_background": "light"
     },
     "output_type": "display_data"
    }
   ],
   "source": [
    "x = np.array(correlation_score)\n",
    "y = np.array(final_score)\n",
    "        \n",
    "plt.scatter(-x,y)\n",
    "plt.xlabel(\"Isolation\")\n",
    "plt.ylabel(\"Final posit of the skeptics\")\n",
    "plt.grid()\n",
    "\n",
    "print(stt.spearmanr(-x,y))"
   ]
  },
  {
   "cell_type": "code",
   "execution_count": null,
   "metadata": {},
   "outputs": [],
   "source": []
  },
  {
   "cell_type": "markdown",
   "metadata": {},
   "source": [
    "### HK (standard mean)\n",
    "\n",
    "i.e. Hegselmann Krause model with standard mean function"
   ]
  },
  {
   "cell_type": "markdown",
   "metadata": {},
   "source": [
    "Define the the model"
   ]
  },
  {
   "cell_type": "code",
   "execution_count": 56,
   "metadata": {},
   "outputs": [],
   "source": [
    "class HK(model):\n",
    "    # initialization\n",
    "    make_lab = generate_labels.ordered_numbers\n",
    "    init_op = initialize_opinions.op_from_distrib\n",
    "    \n",
    "    # rules\n",
    "    selec_rule = make_selection_rule.select_HK_random\n",
    "    up_rule = make_interaction.average\n",
    "    \n",
    "    # observables\n",
    "    mk_ob_op = make_observables.op_dic\n",
    "    mk_ob_avg = make_observables.average_op\n",
    "    mk_op_frq = make_observables.frequency_op\n",
    "    \n",
    "    # Run\n",
    "    tick = ticks.tick_classic\n",
    "    run = run.run_N_times"
   ]
  },
  {
   "cell_type": "code",
   "execution_count": 57,
   "metadata": {},
   "outputs": [],
   "source": [
    "HK1 = HK()"
   ]
  },
  {
   "cell_type": "markdown",
   "metadata": {},
   "source": [
    "Define the parameters"
   ]
  },
  {
   "cell_type": "code",
   "execution_count": 58,
   "metadata": {},
   "outputs": [],
   "source": [
    "# parameters\n",
    "N_agents = 1000\n",
    "HK1.parameters = {\"eps\":3, \"N_agents\":N_agents}\n",
    "HK1.times_2_run = 100"
   ]
  },
  {
   "cell_type": "markdown",
   "metadata": {},
   "source": [
    "Run the simulation"
   ]
  },
  {
   "cell_type": "code",
   "execution_count": 59,
   "metadata": {},
   "outputs": [],
   "source": [
    "initial_score = []\n",
    "final_score = []\n",
    "correlation_score = []\n",
    "\n",
    "repetitions = 1000\n",
    "\n",
    "dic_HK1_deff = {}\n",
    "\n",
    "for rr in range(0,repetitions):\n",
    "\n",
    "    # Select one random country\n",
    "    country = random.choice(list(distributions_dic.keys()))\n",
    "    country_corr = country_corr_dict[country]\n",
    "    \n",
    "    # Make the dictionary with the prb of answers\n",
    "    dic_probability = distributions_dic[country] # this is the dictionary that will be used for cheching the probabilities\n",
    "    dic_probability = invert_dic(dic_probability)\n",
    "    \n",
    "\n",
    "    HK1.make_lab(N=N_agents)\n",
    "\n",
    "    value_of_answers = [0,1,2,3,4]\n",
    "\n",
    "    dd = make_aggregate_prb(coeff_val=np.array(value_of_answers))\n",
    "\n",
    "    x = []\n",
    "    y = []\n",
    "    for key in dd:\n",
    "        x.append(key)\n",
    "        y.append(dd[key])\n",
    "\n",
    "    HK1.init_op(x_distrib=x, y_distrib=y)\n",
    "\n",
    "    # Find agents below the threshold and their initial score\n",
    "    min_ = np.min(x)\n",
    "    mean_= value_of_answers[2]*3\n",
    "    max_ = np.max(x)\n",
    "\n",
    "    threshold = mean_\n",
    "\n",
    "    initial_below_thr = get_index_below_thr(HK1.opinions, thr=threshold)\n",
    "    avg1 = dic_mean(initial_below_thr)\n",
    "    labels_initial_below = [key for key in initial_below_thr]\n",
    "\n",
    "    score0 = standardize_score(avg1, min_, max_, mean_)\n",
    "\n",
    "    # Run\n",
    "    HK1.run()\n",
    "\n",
    "    # Get the data from the end\n",
    "    op_dic = HK1.opinions\n",
    "    new_below_thr = {key:op_dic[key] for key in labels_initial_below}\n",
    "\n",
    "    avg1 = dic_mean(new_below_thr)\n",
    "    score_fin = standardize_score(avg1, min_, max_, mean_)\n",
    "\n",
    "    if not np.isnan(score_fin):\n",
    "        initial_score.append(score0)\n",
    "        final_score.append(score_fin)\n",
    "        correlation_score.append(country_corr)\n",
    "        dic_HK1_deff[country] = score_fin\n",
    "\n",
    "beep()"
   ]
  },
  {
   "cell_type": "code",
   "execution_count": 60,
   "metadata": {},
   "outputs": [
    {
     "name": "stdout",
     "output_type": "stream",
     "text": [
      "SpearmanrResult(correlation=-0.348127991311206, pvalue=7.248846565886133e-30)\n"
     ]
    },
    {
     "data": {
      "image/png": "[encoded data removed]",
      "text/plain": [
       "<Figure size 432x288 with 1 Axes>"
      ]
     },
     "metadata": {
      "needs_background": "light"
     },
     "output_type": "display_data"
    }
   ],
   "source": [
    "x = np.array(correlation_score)\n",
    "y = np.array(final_score)\n",
    "        \n",
    "plt.scatter(-x,y)\n",
    "plt.xlabel(\"Isolation\")\n",
    "plt.ylabel(\"Final posit of the skeptics\")\n",
    "plt.grid()\n",
    "\n",
    "print(stt.spearmanr(-x,y))"
   ]
  },
  {
   "cell_type": "code",
   "execution_count": null,
   "metadata": {},
   "outputs": [],
   "source": []
  },
  {
   "cell_type": "markdown",
   "metadata": {},
   "source": [
    "### HK with geometric mean"
   ]
  },
  {
   "cell_type": "code",
   "execution_count": 61,
   "metadata": {},
   "outputs": [],
   "source": [
    "class HK(model):\n",
    "    # initialization\n",
    "    make_lab = generate_labels.ordered_numbers\n",
    "    init_op = initialize_opinions.op_from_distrib\n",
    "    \n",
    "    # rules\n",
    "    selec_rule = make_selection_rule.select_HK_random\n",
    "    up_rule = make_interaction.geo_mean\n",
    "    \n",
    "    # observables\n",
    "    mk_ob_op = make_observables.op_dic\n",
    "    mk_ob_avg = make_observables.average_op\n",
    "    mk_op_frq = make_observables.frequency_op\n",
    "    \n",
    "    # Run\n",
    "    tick = ticks.tick_classic\n",
    "    run = run.run_N_times"
   ]
  },
  {
   "cell_type": "code",
   "execution_count": 62,
   "metadata": {},
   "outputs": [],
   "source": [
    "HK1 = HK()"
   ]
  },
  {
   "cell_type": "code",
   "execution_count": 63,
   "metadata": {},
   "outputs": [],
   "source": [
    "    # parameters\n",
    "N_agents = 1000\n",
    "# Run_times = 0.1 # each agent will be run, on average this number of time!\n",
    "HK1.parameters = {\"eps\":3, \"N_agents\":N_agents}\n",
    "HK1.times_2_run = 100"
   ]
  },
  {
   "cell_type": "code",
   "execution_count": 64,
   "metadata": {},
   "outputs": [
    {
     "name": "stderr",
     "output_type": "stream",
     "text": [
      "C:\\Users\\DeenoZord\\anaconda3\\lib\\site-packages\\scipy\\stats\\stats.py:410: RuntimeWarning: divide by zero encountered in log\n",
      "  log_a = np.log(a)\n"
     ]
    }
   ],
   "source": [
    "initial_score = []\n",
    "final_score = []\n",
    "correlation_score = []\n",
    "\n",
    "repetitions = 1000\n",
    "\n",
    "for rr in range(0,repetitions):\n",
    "\n",
    "    # Select one random country\n",
    "    country = random.choice(list(distributions_dic.keys()))\n",
    "    country_corr = country_corr_dict[country]\n",
    "    \n",
    "    # Make the dictionary with the prb of answers\n",
    "    dic_probability = distributions_dic[country] # this is the dictionary that will be used for cheching the probabilities\n",
    "    dic_probability = invert_dic(dic_probability)\n",
    "    \n",
    "\n",
    "    HK1.make_lab(N=N_agents)\n",
    "\n",
    "    value_of_answers = [0,1,2,3,4]\n",
    "\n",
    "    dd = make_aggregate_prb(coeff_val=np.array(value_of_answers))\n",
    "\n",
    "    x = []\n",
    "    y = []\n",
    "    for key in dd:\n",
    "        x.append(key)\n",
    "        y.append(dd[key])\n",
    "\n",
    "    HK1.init_op(x_distrib=x, y_distrib=y)\n",
    "\n",
    "    # Find agents below the threshold and their initial score\n",
    "    min_ = np.min(x)\n",
    "    mean_= value_of_answers[2]*3\n",
    "    max_ = np.max(x)\n",
    "\n",
    "    threshold = mean_\n",
    "\n",
    "    initial_below_thr = get_index_below_thr(HK1.opinions, thr=threshold)\n",
    "    avg1 = dic_mean(initial_below_thr)\n",
    "    labels_initial_below = [key for key in initial_below_thr]\n",
    "\n",
    "    score0 = standardize_score(avg1, min_, max_, mean_)\n",
    "\n",
    "    # Run\n",
    "    HK1.run()\n",
    "\n",
    "    # Get the data from the end\n",
    "    op_dic = HK1.opinions\n",
    "    new_below_thr = {key:op_dic[key] for key in labels_initial_below}\n",
    "\n",
    "    avg1 = dic_mean(new_below_thr)\n",
    "    score_fin = standardize_score(avg1, min_, max_, mean_)\n",
    "\n",
    "    if not np.isnan(score_fin):\n",
    "        initial_score.append(score0)\n",
    "        final_score.append(score_fin)\n",
    "        correlation_score.append(country_corr)\n",
    "\n",
    "beep()"
   ]
  },
  {
   "cell_type": "code",
   "execution_count": 65,
   "metadata": {},
   "outputs": [
    {
     "name": "stdout",
     "output_type": "stream",
     "text": [
      "SpearmanrResult(correlation=-0.3834481054377014, pvalue=2.245937611833247e-36)\n"
     ]
    },
    {
     "data": {
      "image/png": "[encoded data removed]",
      "text/plain": [
       "<Figure size 432x288 with 1 Axes>"
      ]
     },
     "metadata": {
      "needs_background": "light"
     },
     "output_type": "display_data"
    }
   ],
   "source": [
    "x = np.array(correlation_score)\n",
    "y = np.array(final_score)\n",
    "        \n",
    "plt.scatter(-x,y)\n",
    "plt.xlabel(\"Isolation\")\n",
    "plt.ylabel(\"Final posit of the skeptics\")\n",
    "plt.grid()\n",
    "\n",
    "print(stt.spearmanr(-x,y))"
   ]
  },
  {
   "cell_type": "code",
   "execution_count": null,
   "metadata": {},
   "outputs": [],
   "source": []
  },
  {
   "cell_type": "markdown",
   "metadata": {},
   "source": [
    "## HK with H-mean"
   ]
  },
  {
   "cell_type": "code",
   "execution_count": 66,
   "metadata": {},
   "outputs": [],
   "source": [
    "class HK(model):\n",
    "    # initialization\n",
    "    make_lab = generate_labels.ordered_numbers\n",
    "    init_op = initialize_opinions.op_from_distrib\n",
    "    \n",
    "    # rules\n",
    "    selec_rule = make_selection_rule.select_HK_random\n",
    "    up_rule = make_interaction.h_mean\n",
    "    \n",
    "    # observables\n",
    "    mk_ob_op = make_observables.op_dic\n",
    "    mk_ob_avg = make_observables.average_op\n",
    "    mk_op_frq = make_observables.frequency_op\n",
    "    \n",
    "    # Run\n",
    "    tick = ticks.tick_classic\n",
    "    run = run.run_N_times"
   ]
  },
  {
   "cell_type": "code",
   "execution_count": 67,
   "metadata": {},
   "outputs": [],
   "source": [
    "HK1 = HK()"
   ]
  },
  {
   "cell_type": "code",
   "execution_count": 68,
   "metadata": {},
   "outputs": [],
   "source": [
    "    # parameters\n",
    "N_agents = 1000\n",
    "# Run_times = 0.1 # each agent will be run, on average this number of time!\n",
    "HK1.parameters = {\"eps\":9, \"N_agents\":N_agents}\n",
    "HK1.times_2_run = 100"
   ]
  },
  {
   "cell_type": "code",
   "execution_count": 69,
   "metadata": {},
   "outputs": [],
   "source": [
    "initial_score = []\n",
    "final_score = []\n",
    "correlation_score = []\n",
    "\n",
    "repetitions = 1000\n",
    "\n",
    "for rr in range(0,repetitions):\n",
    "\n",
    "    # Select one random country\n",
    "    country = random.choice(list(distributions_dic.keys()))\n",
    "    country_corr = country_corr_dict[country]\n",
    "    \n",
    "    # Make the dictionary with the prb of answers\n",
    "    dic_probability = distributions_dic[country] # this is the dictionary that will be used for cheching the probabilities\n",
    "    dic_probability = invert_dic(dic_probability)\n",
    "    \n",
    "\n",
    "    HK1.make_lab(N=N_agents)\n",
    "\n",
    "    value_of_answers = [0,1,2,3,4]\n",
    "\n",
    "    dd = make_aggregate_prb(coeff_val=np.array(value_of_answers))\n",
    "\n",
    "    x = []\n",
    "    y = []\n",
    "    for key in dd:\n",
    "        x.append(key)\n",
    "        y.append(dd[key])\n",
    "\n",
    "    HK1.init_op(x_distrib=x, y_distrib=y)\n",
    "\n",
    "    # Find agents below the threshold and their initial score\n",
    "    min_ = np.min(x)\n",
    "    mean_= value_of_answers[2]*3\n",
    "    max_ = np.max(x)\n",
    "\n",
    "    threshold = mean_\n",
    "\n",
    "    initial_below_thr = get_index_below_thr(HK1.opinions, thr=threshold)\n",
    "    avg1 = dic_mean(initial_below_thr)\n",
    "    labels_initial_below = [key for key in initial_below_thr]\n",
    "\n",
    "    score0 = standardize_score(avg1, min_, max_, mean_)\n",
    "\n",
    "    # Run\n",
    "    HK1.run()\n",
    "\n",
    "    # Get the data from the end\n",
    "    op_dic = HK1.opinions\n",
    "    new_below_thr = {key:op_dic[key] for key in labels_initial_below}\n",
    "\n",
    "    avg1 = dic_mean(new_below_thr)\n",
    "    score_fin = standardize_score(avg1, min_, max_, mean_)\n",
    "\n",
    "    if not np.isnan(score_fin):\n",
    "        initial_score.append(score0)\n",
    "        final_score.append(score_fin)\n",
    "        correlation_score.append(country_corr)\n",
    "\n",
    "beep()"
   ]
  },
  {
   "cell_type": "code",
   "execution_count": 70,
   "metadata": {},
   "outputs": [
    {
     "name": "stdout",
     "output_type": "stream",
     "text": [
      "SpearmanrResult(correlation=-0.4309115832744135, pvalue=1.7843242263151594e-46)\n"
     ]
    },
    {
     "data": {
      "image/png": "[encoded data removed]",
      "text/plain": [
       "<Figure size 432x288 with 1 Axes>"
      ]
     },
     "metadata": {
      "needs_background": "light"
     },
     "output_type": "display_data"
    }
   ],
   "source": [
    "x = np.array(correlation_score)\n",
    "y = np.array(final_score)\n",
    "        \n",
    "plt.scatter(-x,y)\n",
    "plt.xlabel(\"Isolation\")\n",
    "plt.ylabel(\"Final posit of the skeptics\")\n",
    "plt.grid()\n",
    "\n",
    "print(stt.spearmanr(-x,y))"
   ]
  },
  {
   "cell_type": "code",
   "execution_count": null,
   "metadata": {},
   "outputs": [],
   "source": []
  },
  {
   "cell_type": "markdown",
   "metadata": {},
   "source": [
    "### Axelrod model"
   ]
  },
  {
   "cell_type": "code",
   "execution_count": 71,
   "metadata": {},
   "outputs": [],
   "source": [
    "class axelros_base(model):\n",
    "    # initialization\n",
    "    make_lab = generate_labels.ordered_numbers\n",
    "    init_op = initialize_opinions.axel_from_distrib\n",
    "#     mk_network = mk_network.mk_lattice\n",
    "    \n",
    "    # rules\n",
    "    selec_rule = make_selection_rule.select_random # (we are not using a lattice)\n",
    "    up_rule = copy_trait_distance_\n",
    "    \n",
    "    # observables\n",
    "#     mk_observables = make_observables.average_op\n",
    "    \n",
    "    # Run\n",
    "    tick = ticks.tick_classic\n",
    "    run = run.run_N_times"
   ]
  },
  {
   "cell_type": "code",
   "execution_count": 72,
   "metadata": {},
   "outputs": [],
   "source": [
    "# initialize\n",
    "repetitions = 1000\n",
    "\n",
    "initial_score = []\n",
    "final_score = []\n",
    "correlation_score = []\n",
    "\n",
    "USE_COUNTRIES = False\n",
    "\n",
    "distance_exponent = 1\n",
    "\n",
    "if USE_COUNTRIES:\n",
    "    repetitions = len(countries)\n",
    "else:\n",
    "    repetitions = 1000\n",
    "\n",
    "axel1 = axelros_base()\n",
    "\n",
    "N_agents = 1000\n",
    "axel1.times_2_run = 1000\n",
    "\n",
    "value_of_answers = [0,1,2,3,4]\n",
    "n_attitudes = 3\n",
    "    \n",
    "# Start the repetition\n",
    "for rr in range(0,repetitions):\n",
    "\n",
    "    # Select one random country\n",
    "    if USE_COUNTRIES:\n",
    "        country = countries[rr]\n",
    "    else:\n",
    "        country = random.choice(list(distributions_dic.keys()))\n",
    "    \n",
    "    country_corr = country_corr_dict[country]\n",
    "    \n",
    "    # Make the dictionary with the prb of answers\n",
    "    dic_probability = distributions_dic[country] # this is the dictionary that will be used for cheching the probabilities\n",
    "    dic_probability = invert_dic(dic_probability)\n",
    "    \n",
    "    \n",
    "    # Define the max distance\n",
    "    possible_answers = []\n",
    "    prb_answers = []\n",
    "\n",
    "    for key in dic_probability:\n",
    "        t = transform_raw_vec(vec=key, coeff_val=value_of_answers)\n",
    "        possible_answers.append(t)\n",
    "        prb_answers.append(dic_probability[key])\n",
    "\n",
    "    possible_answers = np.array(possible_answers)\n",
    "    prb_answers = np.array(prb_answers)\n",
    "\n",
    "    axel1.parameters = {\"max_distance\": (max(value_of_answers)-min(value_of_answers))*n_attitudes}\n",
    "    \n",
    "    # initialize the agents\n",
    "    axel1.make_lab(N=N_agents)\n",
    "    axel1.init_op(x_distrib=possible_answers, y_distrib=prb_answers)\n",
    "\n",
    "    # Find agents below the threshold\n",
    "    op_ = dic2array(axel1.opinions)[1]\n",
    "    op2 = []\n",
    "    for el in op_:\n",
    "        op2.append(np.sum(el))\n",
    "    op2 = np.array(op2)\n",
    "\n",
    "    # parameters for normalization\n",
    "    min_ = np.min(value_of_answers)*3\n",
    "    mean_= value_of_answers[2]*3\n",
    "    max_ = np.max(value_of_answers)*3\n",
    "\n",
    "    index = np.array(range(0,len(op2)))\n",
    "    initial_below_thr = index[np.array(op2)<=mean_]\n",
    "\n",
    "    avg1_ = np.mean(op2[initial_below_thr])\n",
    "    score0 = standardize_score(avg1_, min_, max_, mean_)\n",
    "\n",
    "    initial_score.append(score0)\n",
    "\n",
    "    # Run\n",
    "    axel1.run()\n",
    "\n",
    "    # Find agents below the threshold again\n",
    "    op_ = dic2array(axel1.opinions)[1]\n",
    "    op2 = []\n",
    "    for el in op_:\n",
    "        op2.append(np.sum(el))\n",
    "    op2 = np.array(op2)\n",
    "\n",
    "    avg1_ = np.mean(op2[initial_below_thr])\n",
    "    score_fin = standardize_score(avg1_, min_, max_, mean_)\n",
    "\n",
    "    if not np.isnan(score_fin):\n",
    "        final_score.append(score_fin)\n",
    "        correlation_score.append(country_corr)"
   ]
  },
  {
   "cell_type": "code",
   "execution_count": 73,
   "metadata": {},
   "outputs": [
    {
     "name": "stdout",
     "output_type": "stream",
     "text": [
      "SpearmanrResult(correlation=-0.5626052926425364, pvalue=1.5059615169704434e-84)\n"
     ]
    },
    {
     "data": {
      "image/png": "[encoded data removed]",
      "text/plain": [
       "<Figure size 432x288 with 1 Axes>"
      ]
     },
     "metadata": {
      "needs_background": "light"
     },
     "output_type": "display_data"
    }
   ],
   "source": [
    "x = np.array(correlation_score)\n",
    "y = np.array(final_score)\n",
    "        \n",
    "plt.scatter(-x,y)\n",
    "plt.xlabel(\"Isolation\")\n",
    "plt.ylabel(\"Final posit of the skeptics\")\n",
    "plt.grid()\n",
    "\n",
    "print(stt.spearmanr(-x,y))"
   ]
  }
 ],
 "metadata": {
  "kernelspec": {
   "display_name": "Python 3",
   "language": "python",
   "name": "python3"
  },
  "language_info": {
   "codemirror_mode": {
    "name": "ipython",
    "version": 3
   },
   "file_extension": ".py",
   "mimetype": "text/x-python",
   "name": "python",
   "nbconvert_exporter": "python",
   "pygments_lexer": "ipython3",
   "version": "3.8.5"
  }
 },
 "nbformat": 4,
 "nbformat_minor": 2
}
